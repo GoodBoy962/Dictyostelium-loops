{
  "nbformat": 4,
  "nbformat_minor": 0,
  "metadata": {
    "kernelspec": {
      "name": "python3",
      "display_name": "Python 3"
    },
    "language_info": {
      "codemirror_mode": {
        "name": "ipython",
        "version": 3
      },
      "file_extension": ".py",
      "mimetype": "text/x-python",
      "name": "python",
      "nbconvert_exporter": "python",
      "pygments_lexer": "ipython3",
      "version": "3.7.2"
    },
    "colab": {
      "name": "U-Net with corner peak.ipynb",
      "version": "0.3.2",
      "provenance": [],
      "collapsed_sections": [
        "44BuAcVUPTyx",
        "dC_sFGz-mjD-",
        "NIYf5HRPPPfB",
        "14fBowgfVRaL",
        "wqBM0GIFVMHJ",
        "JNrjWHxGVY88",
        "Aiqw-c5Lz_pj",
        "41XCrlqrcWK8",
        "gwWYJ7cEcafL",
        "SJFZtslbCuC7",
        "2YWJdRHSEIXr",
        "QF4RpSPoEQ_n",
        "EMb2JtEkcAUE",
        "HkaYZhBw2wDK",
        "bXD46G03PZ1_",
        "gMWV6Zz_YlOx",
        "h9QAyV0fYpo8",
        "T0YIVOkjPntO",
        "YK0_sgwlPqS1"
      ]
    },
    "accelerator": "GPU"
  },
  "cells": [
    {
      "cell_type": "code",
      "metadata": {
        "id": "AFhcwYa3ml2Q",
        "colab_type": "code",
        "outputId": "6d3d3730-9966-4235-ba2d-f883b854f246",
        "colab": {
          "base_uri": "https://localhost:8080/",
          "height": 122
        }
      },
      "source": [
        "from google.colab import drive\n",
        "drive.mount('/content/gdrive')"
      ],
      "execution_count": 1,
      "outputs": [
        {
          "output_type": "stream",
          "text": [
            "Go to this URL in a browser: https://accounts.google.com/o/oauth2/auth?client_id=947318989803-6bn6qk8qdgf4n4g3pfee6491hc0brc4i.apps.googleusercontent.com&redirect_uri=urn%3Aietf%3Awg%3Aoauth%3A2.0%3Aoob&scope=email%20https%3A%2F%2Fwww.googleapis.com%2Fauth%2Fdocs.test%20https%3A%2F%2Fwww.googleapis.com%2Fauth%2Fdrive%20https%3A%2F%2Fwww.googleapis.com%2Fauth%2Fdrive.photos.readonly%20https%3A%2F%2Fwww.googleapis.com%2Fauth%2Fpeopleapi.readonly&response_type=code\n",
            "\n",
            "Enter your authorization code:\n",
            "··········\n",
            "Mounted at /content/gdrive\n"
          ],
          "name": "stdout"
        }
      ]
    },
    {
      "cell_type": "markdown",
      "metadata": {
        "id": "44BuAcVUPTyx",
        "colab_type": "text"
      },
      "source": [
        "### Env"
      ]
    },
    {
      "cell_type": "code",
      "metadata": {
        "id": "XKps1nLrnCzv",
        "colab_type": "code",
        "colab": {}
      },
      "source": [
        "ROOT_PATH = 'gdrive/My Drive/HSE/loops'"
      ],
      "execution_count": 0,
      "outputs": []
    },
    {
      "cell_type": "code",
      "metadata": {
        "id": "_qckqofnoJ5A",
        "colab_type": "code",
        "outputId": "daa1f9b3-6bfe-4bcb-895b-a167d216496e",
        "colab": {
          "base_uri": "https://localhost:8080/",
          "height": 326
        }
      },
      "source": [
        "pip install https://bitbucket.org/mirnylab/mirnylib/get/tip.tar.gz"
      ],
      "execution_count": 3,
      "outputs": [
        {
          "output_type": "stream",
          "text": [
            "Collecting https://bitbucket.org/mirnylab/mirnylib/get/tip.tar.gz\n",
            "\u001b[?25l  Downloading https://bitbucket.org/mirnylab/mirnylib/get/tip.tar.gz\n",
            "\u001b[K     \\ 102kB 674kB/s\n",
            "\u001b[?25hCollecting biopython (from mirnylib==0.0.0)\n",
            "\u001b[?25l  Downloading https://files.pythonhosted.org/packages/ed/77/de3ba8f3d3015455f5df859c082729198ee6732deaeb4b87b9cfbfbaafe3/biopython-1.74-cp36-cp36m-manylinux1_x86_64.whl (2.2MB)\n",
            "\u001b[K     |████████████████████████████████| 2.2MB 28.5MB/s \n",
            "\u001b[?25hRequirement already satisfied: joblib>=0.6.3 in /usr/local/lib/python3.6/dist-packages (from mirnylib==0.0.0) (0.13.2)\n",
            "Requirement already satisfied: h5py in /usr/local/lib/python3.6/dist-packages (from mirnylib==0.0.0) (2.8.0)\n",
            "Requirement already satisfied: numpy in /usr/local/lib/python3.6/dist-packages (from biopython->mirnylib==0.0.0) (1.16.4)\n",
            "Requirement already satisfied: six in /usr/local/lib/python3.6/dist-packages (from h5py->mirnylib==0.0.0) (1.12.0)\n",
            "Building wheels for collected packages: mirnylib\n",
            "  Building wheel for mirnylib (setup.py) ... \u001b[?25l\u001b[?25hdone\n",
            "  Created wheel for mirnylib: filename=mirnylib-0.0.0-cp36-cp36m-linux_x86_64.whl size=1014920 sha256=2df62ea24e27efca4eba9a9465df2e4114c4e138cbb41288cd87478792313c5b\n",
            "  Stored in directory: /tmp/pip-ephem-wheel-cache-ek6527_n/wheels/51/dd/9c/8403bb71e9b379ab467b193aa2c781a19eb7f4dec64b4ec609\n",
            "Successfully built mirnylib\n",
            "Installing collected packages: biopython, mirnylib\n",
            "Successfully installed biopython-1.74 mirnylib-0.0.0\n"
          ],
          "name": "stdout"
        }
      ]
    },
    {
      "cell_type": "code",
      "metadata": {
        "id": "k53GVhgPmjD2",
        "colab_type": "code",
        "colab": {}
      },
      "source": [
        "import numpy as np\n",
        "import pandas as pd\n",
        "import random\n",
        "import os\n",
        "import sys\n",
        "import matplotlib.pyplot as plt\n",
        "import cv2\n",
        "\n",
        "from keras.optimizers import Adam\n",
        "from keras.callbacks import LearningRateScheduler\n",
        "from keras.callbacks import EarlyStopping, ModelCheckpoint, ReduceLROnPlateau\n",
        "from keras import backend as K\n",
        "from keras.metrics import binary_crossentropy\n",
        "\n",
        "from sklearn.model_selection import train_test_split\n",
        "\n",
        "sys.path.insert(0, ROOT_PATH)\n",
        "# data preparation for dicty\n",
        "from prepare_data import *\n",
        "\n",
        "#sys.path.insert(0, os.getcwd().rsplit('/',1)[0])\n",
        "import loops_utils\n",
        "\n",
        "# load unet model\n",
        "from unet_model import *"
      ],
      "execution_count": 0,
      "outputs": []
    },
    {
      "cell_type": "code",
      "metadata": {
        "id": "NwkHW4NYmjD8",
        "colab_type": "code",
        "colab": {}
      },
      "source": [
        "%matplotlib inline"
      ],
      "execution_count": 0,
      "outputs": []
    },
    {
      "cell_type": "markdown",
      "metadata": {
        "id": "dC_sFGz-mjD-",
        "colab_type": "text"
      },
      "source": [
        "### Custom metrics"
      ]
    },
    {
      "cell_type": "code",
      "metadata": {
        "id": "tI16uDDpmjD-",
        "colab_type": "code",
        "colab": {}
      },
      "source": [
        "def iou(y_true, y_pred, smooth=1):\n",
        "    y_pred = K.round(y_pred) ###\n",
        "    y_true_f = K.flatten(y_true)\n",
        "    y_pred_f = K.flatten(y_pred)\n",
        "    \n",
        "    intersection = K.sum(y_true_f * y_pred_f)\n",
        "    union = K.sum(y_true_f) + K.sum( y_pred_f) - intersection\n",
        "    iou = (intersection + smooth) / (union + smooth)\n",
        "    return iou\n",
        "\n",
        "def f1(y_true, y_pred):\n",
        "    y_pred = K.round(y_pred)\n",
        "    y_true_f = K.flatten(y_true)\n",
        "    y_pred_f = K.flatten(y_pred)\n",
        "    \n",
        "    tp = K.sum(y_true_f*y_pred_f)\n",
        "    fp = K.sum((1-y_true_f)*y_pred_f)\n",
        "    fn = K.sum(y_true_f*(1-y_pred_f))\n",
        "\n",
        "    p = tp / (tp + fp + K.epsilon())\n",
        "    r = tp / (tp + fn + K.epsilon())\n",
        "\n",
        "    return 2*p*r / (p+r+K.epsilon())\n",
        "\n",
        "def bce_dice_loss(y_true, y_pred):\n",
        "    return binary_crossentropy(y_true, y_pred) + dice_coef_loss(y_true, y_pred)\n",
        "\n",
        "smooth = 1.\n",
        "\n",
        "def dice_coef(y_true, y_pred):\n",
        "    y_true_f = K.flatten(y_true)\n",
        "    y_pred_f = K.flatten(y_pred)\n",
        "    intersection = K.sum(y_true_f * y_pred_f)\n",
        "    return (2. * intersection + smooth) / (K.sum(y_true_f) + K.sum(y_pred_f) + smooth)\n",
        "\n",
        "\n",
        "def dice_coef_loss(y_true, y_pred):\n",
        "    return 1-dice_coef(y_true, y_pred)\n",
        "\n",
        "def kulch_coef(y_true, y_pred, smooth=1):\n",
        "    y_pred = K.round(y_pred)\n",
        "    y_true_f = K.flatten(y_true)\n",
        "    y_pred_f = K.flatten(y_pred)\n",
        "    \n",
        "    intersection = K.sum(y_true_f * y_pred_f)\n",
        "    return (intersection + smooth) / (K.sum(y_true_f) + K.sum(y_pred_f) - 2*intersection + smooth)\n",
        "\n",
        "def kulch_coef_loss(y_true, y_pred):\n",
        "    return 1-kulch_coef(y_true, y_pred)\n",
        "\n",
        "def bce_kulch_loss(y_true, y_pred):\n",
        "    return binary_crossentropy(y_true, y_pred) + kulch_coef_loss(y_true, y_pred)"
      ],
      "execution_count": 0,
      "outputs": []
    },
    {
      "cell_type": "markdown",
      "metadata": {
        "id": "NIYf5HRPPPfB",
        "colab_type": "text"
      },
      "source": [
        "# Dicty"
      ]
    },
    {
      "cell_type": "code",
      "metadata": {
        "id": "FsIeHMPOl8i_",
        "colab_type": "code",
        "colab": {}
      },
      "source": [
        "IMAGE_SIZE = 256"
      ],
      "execution_count": 0,
      "outputs": []
    },
    {
      "cell_type": "code",
      "metadata": {
        "id": "c5sYeifrdpW0",
        "colab_type": "code",
        "colab": {}
      },
      "source": [
        "X_train, y_train = prepare_data(image_size=IMAGE_SIZE, chromosomes=[1,5], is_mask_corner_peak=True)\n",
        "X_test, y_test = prepare_data(image_size=IMAGE_SIZE, chromosomes=[6], is_mask_corner_peak=True)"
      ],
      "execution_count": 0,
      "outputs": []
    },
    {
      "cell_type": "markdown",
      "metadata": {
        "id": "14fBowgfVRaL",
        "colab_type": "text"
      },
      "source": [
        "### binary-crossentropy"
      ]
    },
    {
      "cell_type": "code",
      "metadata": {
        "id": "NAb_bJgZmjEv",
        "colab_type": "code",
        "outputId": "de280827-9a5d-401b-da4e-dcbf4c017f44",
        "colab": {
          "base_uri": "https://localhost:8080/",
          "height": 1000
        }
      },
      "source": [
        "input_img = Input((IMAGE_SIZE, IMAGE_SIZE, 1), name='img')\n",
        "model = get_unet(input_img, n_filters=64, dropout=0.05, batchnorm=True)\n",
        "\n",
        "model.compile(optimizer=Adam(), loss=binary_crossentropy, metrics=['accuracy'])\n",
        "\n",
        "weights_path = ROOT_PATH + '/dicty/weights/unet_bce_corner_peak_half_step.h5'\n",
        "\n",
        "callbacks = [\n",
        "    EarlyStopping(patience=5, verbose=1),\n",
        "    ReduceLROnPlateau(factor=0.1, patience=2, min_lr=0.00001, verbose=1),\n",
        "    ModelCheckpoint(weights_path, verbose=1, save_best_only=True, save_weights_only=True)\n",
        "]\n",
        "\n",
        "results = model.fit(X_train, y_train,\n",
        "                    batch_size=1, epochs=100,\n",
        "                    callbacks=callbacks, \n",
        "                    validation_data=(X_test, y_test))\n",
        "\n",
        "plot_model_scores(results)"
      ],
      "execution_count": 14,
      "outputs": [
        {
          "output_type": "stream",
          "text": [
            "Train on 39 samples, validate on 14 samples\n",
            "Epoch 1/100\n",
            "39/39 [==============================] - 18s 454ms/step - loss: 0.2243 - acc: 0.9513 - val_loss: 0.2195 - val_acc: 0.9717\n",
            "\n",
            "Epoch 00001: val_loss improved from inf to 0.21952, saving model to gdrive/My Drive/HSE/loops/dicty/weights/unet_bce_corner_peak_half_step.h5\n",
            "Epoch 2/100\n",
            "39/39 [==============================] - 5s 135ms/step - loss: 0.0545 - acc: 0.9979 - val_loss: 0.0420 - val_acc: 0.9985\n",
            "\n",
            "Epoch 00002: val_loss improved from 0.21952 to 0.04198, saving model to gdrive/My Drive/HSE/loops/dicty/weights/unet_bce_corner_peak_half_step.h5\n",
            "Epoch 3/100\n",
            "39/39 [==============================] - 5s 134ms/step - loss: 0.0378 - acc: 0.9979 - val_loss: 0.0325 - val_acc: 0.9985\n",
            "\n",
            "Epoch 00003: val_loss improved from 0.04198 to 0.03254, saving model to gdrive/My Drive/HSE/loops/dicty/weights/unet_bce_corner_peak_half_step.h5\n",
            "Epoch 4/100\n",
            "39/39 [==============================] - 5s 135ms/step - loss: 0.0284 - acc: 0.9979 - val_loss: 0.0239 - val_acc: 0.9985\n",
            "\n",
            "Epoch 00004: val_loss improved from 0.03254 to 0.02394, saving model to gdrive/My Drive/HSE/loops/dicty/weights/unet_bce_corner_peak_half_step.h5\n",
            "Epoch 5/100\n",
            "39/39 [==============================] - 5s 135ms/step - loss: 0.0237 - acc: 0.9979 - val_loss: 0.0188 - val_acc: 0.9985\n",
            "\n",
            "Epoch 00005: val_loss improved from 0.02394 to 0.01882, saving model to gdrive/My Drive/HSE/loops/dicty/weights/unet_bce_corner_peak_half_step.h5\n",
            "Epoch 6/100\n",
            "39/39 [==============================] - 5s 135ms/step - loss: 0.0205 - acc: 0.9979 - val_loss: 0.0154 - val_acc: 0.9985\n",
            "\n",
            "Epoch 00006: val_loss improved from 0.01882 to 0.01542, saving model to gdrive/My Drive/HSE/loops/dicty/weights/unet_bce_corner_peak_half_step.h5\n",
            "Epoch 7/100\n",
            "39/39 [==============================] - 5s 135ms/step - loss: 0.0179 - acc: 0.9979 - val_loss: 0.0154 - val_acc: 0.9985\n",
            "\n",
            "Epoch 00007: val_loss improved from 0.01542 to 0.01537, saving model to gdrive/My Drive/HSE/loops/dicty/weights/unet_bce_corner_peak_half_step.h5\n",
            "Epoch 8/100\n",
            "39/39 [==============================] - 5s 135ms/step - loss: 0.0156 - acc: 0.9979 - val_loss: 0.0126 - val_acc: 0.9985\n",
            "\n",
            "Epoch 00008: val_loss improved from 0.01537 to 0.01264, saving model to gdrive/My Drive/HSE/loops/dicty/weights/unet_bce_corner_peak_half_step.h5\n",
            "Epoch 9/100\n",
            "39/39 [==============================] - 5s 135ms/step - loss: 0.0140 - acc: 0.9979 - val_loss: 0.0107 - val_acc: 0.9985\n",
            "\n",
            "Epoch 00009: val_loss improved from 0.01264 to 0.01068, saving model to gdrive/My Drive/HSE/loops/dicty/weights/unet_bce_corner_peak_half_step.h5\n",
            "Epoch 10/100\n",
            "39/39 [==============================] - 5s 136ms/step - loss: 0.0123 - acc: 0.9979 - val_loss: 0.0093 - val_acc: 0.9985\n",
            "\n",
            "Epoch 00010: val_loss improved from 0.01068 to 0.00927, saving model to gdrive/My Drive/HSE/loops/dicty/weights/unet_bce_corner_peak_half_step.h5\n",
            "Epoch 11/100\n",
            "39/39 [==============================] - 5s 136ms/step - loss: 0.0112 - acc: 0.9979 - val_loss: 0.0095 - val_acc: 0.9985\n",
            "\n",
            "Epoch 00011: val_loss did not improve from 0.00927\n",
            "Epoch 12/100\n",
            "39/39 [==============================] - 5s 136ms/step - loss: 0.0102 - acc: 0.9980 - val_loss: 0.0078 - val_acc: 0.9985\n",
            "\n",
            "Epoch 00012: val_loss improved from 0.00927 to 0.00784, saving model to gdrive/My Drive/HSE/loops/dicty/weights/unet_bce_corner_peak_half_step.h5\n",
            "Epoch 13/100\n",
            "39/39 [==============================] - 5s 137ms/step - loss: 0.0096 - acc: 0.9980 - val_loss: 0.0067 - val_acc: 0.9985\n",
            "\n",
            "Epoch 00013: val_loss improved from 0.00784 to 0.00674, saving model to gdrive/My Drive/HSE/loops/dicty/weights/unet_bce_corner_peak_half_step.h5\n",
            "Epoch 14/100\n",
            "39/39 [==============================] - 5s 136ms/step - loss: 0.0094 - acc: 0.9980 - val_loss: 0.0101 - val_acc: 0.9985\n",
            "\n",
            "Epoch 00014: val_loss did not improve from 0.00674\n",
            "Epoch 15/100\n",
            "39/39 [==============================] - 5s 137ms/step - loss: 0.0100 - acc: 0.9980 - val_loss: 0.0074 - val_acc: 0.9985\n",
            "\n",
            "Epoch 00015: ReduceLROnPlateau reducing learning rate to 0.00010000000474974513.\n",
            "\n",
            "Epoch 00015: val_loss did not improve from 0.00674\n",
            "Epoch 16/100\n",
            "39/39 [==============================] - 5s 137ms/step - loss: 0.0089 - acc: 0.9981 - val_loss: 0.0071 - val_acc: 0.9985\n",
            "\n",
            "Epoch 00016: val_loss did not improve from 0.00674\n",
            "Epoch 17/100\n",
            "39/39 [==============================] - 5s 137ms/step - loss: 0.0087 - acc: 0.9981 - val_loss: 0.0070 - val_acc: 0.9985\n",
            "\n",
            "Epoch 00017: ReduceLROnPlateau reducing learning rate to 1.0000000474974514e-05.\n",
            "\n",
            "Epoch 00017: val_loss did not improve from 0.00674\n",
            "Epoch 18/100\n",
            "39/39 [==============================] - 5s 137ms/step - loss: 0.0086 - acc: 0.9981 - val_loss: 0.0070 - val_acc: 0.9985\n",
            "\n",
            "Epoch 00018: val_loss did not improve from 0.00674\n",
            "Epoch 00018: early stopping\n"
          ],
          "name": "stdout"
        },
        {
          "output_type": "display_data",
          "data": {
            "image/png": "[encoded data removed]",
            "text/plain": [
              "<Figure size 360x360 with 1 Axes>"
            ]
          },
          "metadata": {
            "tags": []
          }
        }
      ]
    },
    {
      "cell_type": "markdown",
      "metadata": {
        "id": "wqBM0GIFVMHJ",
        "colab_type": "text"
      },
      "source": [
        "### dice"
      ]
    },
    {
      "cell_type": "code",
      "metadata": {
        "id": "XCGqAWVOmjEW",
        "colab_type": "code",
        "outputId": "9110342f-b35c-4125-87c4-45d912750ed9",
        "colab": {
          "base_uri": "https://localhost:8080/",
          "height": 1000
        }
      },
      "source": [
        "input_img = Input((IMAGE_SIZE, IMAGE_SIZE, 1), name='img')\n",
        "model = get_unet(input_img, n_filters=64, dropout=0.05, batchnorm=True)\n",
        "\n",
        "model.compile(optimizer=Adam(), loss=dice_coef_loss, metrics=['accuracy'])\n",
        "\n",
        "weights_path = ROOT_PATH + '/dicty/weights/unet_dice_corner_peak_half_step.h5'\n",
        "\n",
        "callbacks = [\n",
        "    EarlyStopping(patience=5, verbose=1),\n",
        "    ReduceLROnPlateau(factor=0.1, patience=2, min_lr=0.00001, verbose=1),\n",
        "    ModelCheckpoint(weights_path, verbose=1, save_best_only=True, save_weights_only=True)\n",
        "]\n",
        "\n",
        "results = model.fit(X_train, y_train,\n",
        "                    batch_size=1, epochs=100,\n",
        "                    callbacks=callbacks, \n",
        "                    validation_data=(X_test, y_test))\n",
        "\n",
        "plot_model_scores(results)"
      ],
      "execution_count": 15,
      "outputs": [
        {
          "output_type": "stream",
          "text": [
            "Train on 39 samples, validate on 14 samples\n",
            "Epoch 1/100\n",
            "39/39 [==============================] - 11s 288ms/step - loss: 0.9824 - acc: 0.8091 - val_loss: 0.9969 - val_acc: 0.0015\n",
            "\n",
            "Epoch 00001: val_loss improved from inf to 0.99693, saving model to gdrive/My Drive/HSE/loops/dicty/weights/unet_dice_corner_peak_half_step.h5\n",
            "Epoch 2/100\n",
            "39/39 [==============================] - 5s 138ms/step - loss: 0.9390 - acc: 0.9624 - val_loss: 0.9941 - val_acc: 0.7487\n",
            "\n",
            "Epoch 00002: val_loss improved from 0.99693 to 0.99414, saving model to gdrive/My Drive/HSE/loops/dicty/weights/unet_dice_corner_peak_half_step.h5\n",
            "Epoch 3/100\n",
            "39/39 [==============================] - 5s 137ms/step - loss: 0.7924 - acc: 0.9940 - val_loss: 0.9655 - val_acc: 0.9965\n",
            "\n",
            "Epoch 00003: val_loss improved from 0.99414 to 0.96553, saving model to gdrive/My Drive/HSE/loops/dicty/weights/unet_dice_corner_peak_half_step.h5\n",
            "Epoch 4/100\n",
            "39/39 [==============================] - 5s 137ms/step - loss: 0.6237 - acc: 0.9972 - val_loss: 0.9718 - val_acc: 0.9793\n",
            "\n",
            "Epoch 00004: val_loss did not improve from 0.96553\n",
            "Epoch 5/100\n",
            "39/39 [==============================] - 5s 137ms/step - loss: 0.5468 - acc: 0.9978 - val_loss: 0.8442 - val_acc: 0.9948\n",
            "\n",
            "Epoch 00005: val_loss improved from 0.96553 to 0.84418, saving model to gdrive/My Drive/HSE/loops/dicty/weights/unet_dice_corner_peak_half_step.h5\n",
            "Epoch 6/100\n",
            "39/39 [==============================] - 5s 137ms/step - loss: 0.5237 - acc: 0.9978 - val_loss: 0.9294 - val_acc: 0.9964\n",
            "\n",
            "Epoch 00006: val_loss did not improve from 0.84418\n",
            "Epoch 7/100\n",
            "39/39 [==============================] - 5s 138ms/step - loss: 0.5018 - acc: 0.9980 - val_loss: 0.6212 - val_acc: 0.9980\n",
            "\n",
            "Epoch 00007: val_loss improved from 0.84418 to 0.62118, saving model to gdrive/My Drive/HSE/loops/dicty/weights/unet_dice_corner_peak_half_step.h5\n",
            "Epoch 8/100\n",
            "39/39 [==============================] - 5s 138ms/step - loss: 0.4652 - acc: 0.9982 - val_loss: 0.5679 - val_acc: 0.9978\n",
            "\n",
            "Epoch 00008: val_loss improved from 0.62118 to 0.56792, saving model to gdrive/My Drive/HSE/loops/dicty/weights/unet_dice_corner_peak_half_step.h5\n",
            "Epoch 9/100\n",
            "39/39 [==============================] - 5s 138ms/step - loss: 0.4486 - acc: 0.9982 - val_loss: 0.5407 - val_acc: 0.9986\n",
            "\n",
            "Epoch 00009: val_loss improved from 0.56792 to 0.54070, saving model to gdrive/My Drive/HSE/loops/dicty/weights/unet_dice_corner_peak_half_step.h5\n",
            "Epoch 10/100\n",
            "39/39 [==============================] - 5s 138ms/step - loss: 0.4377 - acc: 0.9982 - val_loss: 0.5232 - val_acc: 0.9983\n",
            "\n",
            "Epoch 00010: val_loss improved from 0.54070 to 0.52319, saving model to gdrive/My Drive/HSE/loops/dicty/weights/unet_dice_corner_peak_half_step.h5\n",
            "Epoch 11/100\n",
            "39/39 [==============================] - 5s 139ms/step - loss: 0.4039 - acc: 0.9984 - val_loss: 0.5611 - val_acc: 0.9976\n",
            "\n",
            "Epoch 00011: val_loss did not improve from 0.52319\n",
            "Epoch 12/100\n",
            "39/39 [==============================] - 5s 139ms/step - loss: 0.4098 - acc: 0.9984 - val_loss: 0.5552 - val_acc: 0.9984\n",
            "\n",
            "Epoch 00012: ReduceLROnPlateau reducing learning rate to 0.00010000000474974513.\n",
            "\n",
            "Epoch 00012: val_loss did not improve from 0.52319\n",
            "Epoch 13/100\n",
            "39/39 [==============================] - 5s 138ms/step - loss: 0.3680 - acc: 0.9986 - val_loss: 0.4948 - val_acc: 0.9986\n",
            "\n",
            "Epoch 00013: val_loss improved from 0.52319 to 0.49484, saving model to gdrive/My Drive/HSE/loops/dicty/weights/unet_dice_corner_peak_half_step.h5\n",
            "Epoch 14/100\n",
            "39/39 [==============================] - 5s 140ms/step - loss: 0.3298 - acc: 0.9987 - val_loss: 0.4965 - val_acc: 0.9986\n",
            "\n",
            "Epoch 00014: val_loss did not improve from 0.49484\n",
            "Epoch 15/100\n",
            "39/39 [==============================] - 5s 138ms/step - loss: 0.3185 - acc: 0.9988 - val_loss: 0.4914 - val_acc: 0.9986\n",
            "\n",
            "Epoch 00015: val_loss improved from 0.49484 to 0.49137, saving model to gdrive/My Drive/HSE/loops/dicty/weights/unet_dice_corner_peak_half_step.h5\n",
            "Epoch 16/100\n",
            "39/39 [==============================] - 5s 138ms/step - loss: 0.3069 - acc: 0.9988 - val_loss: 0.4927 - val_acc: 0.9986\n",
            "\n",
            "Epoch 00016: val_loss did not improve from 0.49137\n",
            "Epoch 17/100\n",
            "39/39 [==============================] - 5s 139ms/step - loss: 0.2995 - acc: 0.9988 - val_loss: 0.4949 - val_acc: 0.9986\n",
            "\n",
            "Epoch 00017: ReduceLROnPlateau reducing learning rate to 1.0000000474974514e-05.\n",
            "\n",
            "Epoch 00017: val_loss did not improve from 0.49137\n",
            "Epoch 18/100\n",
            "39/39 [==============================] - 5s 139ms/step - loss: 0.2924 - acc: 0.9989 - val_loss: 0.4939 - val_acc: 0.9986\n",
            "\n",
            "Epoch 00018: val_loss did not improve from 0.49137\n",
            "Epoch 19/100\n",
            "39/39 [==============================] - 5s 139ms/step - loss: 0.2904 - acc: 0.9989 - val_loss: 0.4929 - val_acc: 0.9986\n",
            "\n",
            "Epoch 00019: ReduceLROnPlateau reducing learning rate to 1e-05.\n",
            "\n",
            "Epoch 00019: val_loss did not improve from 0.49137\n",
            "Epoch 20/100\n",
            "39/39 [==============================] - 5s 139ms/step - loss: 0.2896 - acc: 0.9989 - val_loss: 0.4927 - val_acc: 0.9986\n",
            "\n",
            "Epoch 00020: val_loss did not improve from 0.49137\n",
            "Epoch 00020: early stopping\n"
          ],
          "name": "stdout"
        },
        {
          "output_type": "display_data",
          "data": {
            "image/png": "[encoded data removed]",
            "text/plain": [
              "<Figure size 360x360 with 1 Axes>"
            ]
          },
          "metadata": {
            "tags": []
          }
        }
      ]
    },
    {
      "cell_type": "markdown",
      "metadata": {
        "id": "JNrjWHxGVY88",
        "colab_type": "text"
      },
      "source": [
        "### bce-dice"
      ]
    },
    {
      "cell_type": "code",
      "metadata": {
        "id": "IDuPR9ChmjEC",
        "colab_type": "code",
        "outputId": "03b37e45-437b-4737-fcb2-95be94694532",
        "colab": {
          "base_uri": "https://localhost:8080/",
          "height": 1000
        }
      },
      "source": [
        "input_img = Input((IMAGE_SIZE, IMAGE_SIZE, 1), name='img')\n",
        "model = get_unet(input_img, n_filters=64, dropout=0.05, batchnorm=True)\n",
        "\n",
        "model.compile(optimizer=Adam(), loss=bce_dice_loss, metrics=['accuracy'])\n",
        "\n",
        "weights_path = ROOT_PATH + '/dicty/weights/unet_bce_dice_loss_corner_peak_half_step.h5'\n",
        "\n",
        "callbacks = [\n",
        "    EarlyStopping(patience=5, verbose=1),\n",
        "    ReduceLROnPlateau(factor=0.1, patience=2, min_lr=0.00001, verbose=1),\n",
        "    ModelCheckpoint(weights_path, verbose=1, save_best_only=True, save_weights_only=True)\n",
        "]\n",
        "\n",
        "results = model.fit(X_train, y_train,\n",
        "                    batch_size=1, epochs=100,\n",
        "                    callbacks=callbacks, \n",
        "                    validation_data=(X_test, y_test))\n",
        "\n",
        "plot_model_scores(results)"
      ],
      "execution_count": 16,
      "outputs": [
        {
          "output_type": "stream",
          "text": [
            "Train on 39 samples, validate on 14 samples\n",
            "Epoch 1/100\n",
            "39/39 [==============================] - 13s 321ms/step - loss: 1.1727 - acc: 0.9765 - val_loss: 2.0192 - val_acc: 0.8956\n",
            "\n",
            "Epoch 00001: val_loss improved from inf to 2.01918, saving model to gdrive/My Drive/HSE/loops/dicty/weights/unet_bce_dice_loss_corner_peak_half_step.h5\n",
            "Epoch 2/100\n",
            "39/39 [==============================] - 5s 140ms/step - loss: 1.0237 - acc: 0.9966 - val_loss: 1.0566 - val_acc: 0.9837\n",
            "\n",
            "Epoch 00002: val_loss improved from 2.01918 to 1.05660, saving model to gdrive/My Drive/HSE/loops/dicty/weights/unet_bce_dice_loss_corner_peak_half_step.h5\n",
            "Epoch 3/100\n",
            "39/39 [==============================] - 5s 139ms/step - loss: 0.9594 - acc: 0.9947 - val_loss: 0.9819 - val_acc: 0.9954\n",
            "\n",
            "Epoch 00003: val_loss improved from 1.05660 to 0.98195, saving model to gdrive/My Drive/HSE/loops/dicty/weights/unet_bce_dice_loss_corner_peak_half_step.h5\n",
            "Epoch 4/100\n",
            "39/39 [==============================] - 5s 140ms/step - loss: 0.8742 - acc: 0.9952 - val_loss: 0.9318 - val_acc: 0.9972\n",
            "\n",
            "Epoch 00004: val_loss improved from 0.98195 to 0.93178, saving model to gdrive/My Drive/HSE/loops/dicty/weights/unet_bce_dice_loss_corner_peak_half_step.h5\n",
            "Epoch 5/100\n",
            "39/39 [==============================] - 5s 139ms/step - loss: 0.7623 - acc: 0.9968 - val_loss: 0.8917 - val_acc: 0.9959\n",
            "\n",
            "Epoch 00005: val_loss improved from 0.93178 to 0.89168, saving model to gdrive/My Drive/HSE/loops/dicty/weights/unet_bce_dice_loss_corner_peak_half_step.h5\n",
            "Epoch 6/100\n",
            "39/39 [==============================] - 5s 139ms/step - loss: 0.6922 - acc: 0.9967 - val_loss: 0.7197 - val_acc: 0.9976\n",
            "\n",
            "Epoch 00006: val_loss improved from 0.89168 to 0.71967, saving model to gdrive/My Drive/HSE/loops/dicty/weights/unet_bce_dice_loss_corner_peak_half_step.h5\n",
            "Epoch 7/100\n",
            "39/39 [==============================] - 5s 139ms/step - loss: 0.6316 - acc: 0.9972 - val_loss: 0.7303 - val_acc: 0.9963\n",
            "\n",
            "Epoch 00007: val_loss did not improve from 0.71967\n",
            "Epoch 8/100\n",
            "39/39 [==============================] - 5s 140ms/step - loss: 0.5848 - acc: 0.9976 - val_loss: 0.6558 - val_acc: 0.9981\n",
            "\n",
            "Epoch 00008: val_loss improved from 0.71967 to 0.65578, saving model to gdrive/My Drive/HSE/loops/dicty/weights/unet_bce_dice_loss_corner_peak_half_step.h5\n",
            "Epoch 9/100\n",
            "39/39 [==============================] - 5s 140ms/step - loss: 0.5415 - acc: 0.9978 - val_loss: 0.5860 - val_acc: 0.9979\n",
            "\n",
            "Epoch 00009: val_loss improved from 0.65578 to 0.58604, saving model to gdrive/My Drive/HSE/loops/dicty/weights/unet_bce_dice_loss_corner_peak_half_step.h5\n",
            "Epoch 10/100\n",
            "39/39 [==============================] - 5s 140ms/step - loss: 0.5193 - acc: 0.9979 - val_loss: 0.5412 - val_acc: 0.9982\n",
            "\n",
            "Epoch 00010: val_loss improved from 0.58604 to 0.54119, saving model to gdrive/My Drive/HSE/loops/dicty/weights/unet_bce_dice_loss_corner_peak_half_step.h5\n",
            "Epoch 11/100\n",
            "39/39 [==============================] - 5s 140ms/step - loss: 0.4973 - acc: 0.9980 - val_loss: 0.5446 - val_acc: 0.9986\n",
            "\n",
            "Epoch 00011: val_loss did not improve from 0.54119\n",
            "Epoch 12/100\n",
            "39/39 [==============================] - 5s 140ms/step - loss: 0.4763 - acc: 0.9982 - val_loss: 0.4970 - val_acc: 0.9985\n",
            "\n",
            "Epoch 00012: val_loss improved from 0.54119 to 0.49701, saving model to gdrive/My Drive/HSE/loops/dicty/weights/unet_bce_dice_loss_corner_peak_half_step.h5\n",
            "Epoch 13/100\n",
            "39/39 [==============================] - 5s 141ms/step - loss: 0.4905 - acc: 0.9981 - val_loss: 0.4885 - val_acc: 0.9987\n",
            "\n",
            "Epoch 00013: val_loss improved from 0.49701 to 0.48851, saving model to gdrive/My Drive/HSE/loops/dicty/weights/unet_bce_dice_loss_corner_peak_half_step.h5\n",
            "Epoch 14/100\n",
            "39/39 [==============================] - 5s 140ms/step - loss: 0.4688 - acc: 0.9982 - val_loss: 0.4654 - val_acc: 0.9986\n",
            "\n",
            "Epoch 00014: val_loss improved from 0.48851 to 0.46544, saving model to gdrive/My Drive/HSE/loops/dicty/weights/unet_bce_dice_loss_corner_peak_half_step.h5\n",
            "Epoch 15/100\n",
            "39/39 [==============================] - 5s 141ms/step - loss: 0.4375 - acc: 0.9983 - val_loss: 0.5074 - val_acc: 0.9983\n",
            "\n",
            "Epoch 00015: val_loss did not improve from 0.46544\n",
            "Epoch 16/100\n",
            "39/39 [==============================] - 5s 140ms/step - loss: 0.4212 - acc: 0.9984 - val_loss: 0.4824 - val_acc: 0.9986\n",
            "\n",
            "Epoch 00016: ReduceLROnPlateau reducing learning rate to 0.00010000000474974513.\n",
            "\n",
            "Epoch 00016: val_loss did not improve from 0.46544\n",
            "Epoch 17/100\n",
            "39/39 [==============================] - 5s 141ms/step - loss: 0.3825 - acc: 0.9985 - val_loss: 0.4684 - val_acc: 0.9987\n",
            "\n",
            "Epoch 00017: val_loss did not improve from 0.46544\n",
            "Epoch 18/100\n",
            "39/39 [==============================] - 6s 141ms/step - loss: 0.3620 - acc: 0.9987 - val_loss: 0.4619 - val_acc: 0.9986\n",
            "\n",
            "Epoch 00018: val_loss improved from 0.46544 to 0.46189, saving model to gdrive/My Drive/HSE/loops/dicty/weights/unet_bce_dice_loss_corner_peak_half_step.h5\n",
            "Epoch 19/100\n",
            "39/39 [==============================] - 6s 144ms/step - loss: 0.3499 - acc: 0.9987 - val_loss: 0.4629 - val_acc: 0.9987\n",
            "\n",
            "Epoch 00019: val_loss did not improve from 0.46189\n",
            "Epoch 20/100\n",
            "39/39 [==============================] - 6s 142ms/step - loss: 0.3386 - acc: 0.9987 - val_loss: 0.4653 - val_acc: 0.9987\n",
            "\n",
            "Epoch 00020: ReduceLROnPlateau reducing learning rate to 1.0000000474974514e-05.\n",
            "\n",
            "Epoch 00020: val_loss did not improve from 0.46189\n",
            "Epoch 21/100\n",
            "39/39 [==============================] - 6s 142ms/step - loss: 0.3307 - acc: 0.9988 - val_loss: 0.4652 - val_acc: 0.9987\n",
            "\n",
            "Epoch 00021: val_loss did not improve from 0.46189\n",
            "Epoch 22/100\n",
            "39/39 [==============================] - 6s 141ms/step - loss: 0.3321 - acc: 0.9988 - val_loss: 0.4655 - val_acc: 0.9987\n",
            "\n",
            "Epoch 00022: ReduceLROnPlateau reducing learning rate to 1e-05.\n",
            "\n",
            "Epoch 00022: val_loss did not improve from 0.46189\n",
            "Epoch 23/100\n",
            "39/39 [==============================] - 6s 142ms/step - loss: 0.3301 - acc: 0.9988 - val_loss: 0.4658 - val_acc: 0.9986\n",
            "\n",
            "Epoch 00023: val_loss did not improve from 0.46189\n",
            "Epoch 00023: early stopping\n"
          ],
          "name": "stdout"
        },
        {
          "output_type": "display_data",
          "data": {
            "image/png": "[encoded data removed]",
            "text/plain": [
              "<Figure size 360x360 with 1 Axes>"
            ]
          },
          "metadata": {
            "tags": []
          }
        }
      ]
    },
    {
      "cell_type": "markdown",
      "metadata": {
        "id": "Aiqw-c5Lz_pj",
        "colab_type": "text"
      },
      "source": [
        "# RAO"
      ]
    },
    {
      "cell_type": "code",
      "metadata": {
        "id": "nzQ1CaBEz_Jq",
        "colab_type": "code",
        "colab": {}
      },
      "source": [
        "X_train_rao = np.load(ROOT_PATH + '/rao/prepared_datasets/X_train.npy') \n",
        "X_test_rao = np.load(ROOT_PATH + '/rao/prepared_datasets/X_valid.npy')  \n",
        "y_train_rao = np.load(ROOT_PATH + '/rao/prepared_datasets/y_train.npy') \n",
        "y_test_rao = np.load(ROOT_PATH + '/rao/prepared_datasets/y_valid.npy') "
      ],
      "execution_count": 0,
      "outputs": []
    },
    {
      "cell_type": "markdown",
      "metadata": {
        "id": "41XCrlqrcWK8",
        "colab_type": "text"
      },
      "source": [
        "### binary-crossentopy"
      ]
    },
    {
      "cell_type": "code",
      "metadata": {
        "id": "KYvWYQJ004pL",
        "colab_type": "code",
        "outputId": "f9540fbc-a2c3-4fa2-c1cc-1c1f7c7133ec",
        "colab": {
          "base_uri": "https://localhost:8080/",
          "height": 1000
        }
      },
      "source": [
        "input_img = Input((256, 256, 1), name='img')\n",
        "model = get_unet(input_img, n_filters=64, dropout=0.05, batchnorm=True)\n",
        "\n",
        "model.compile(optimizer=Adam(), loss=binary_crossentropy, metrics=['accuracy'])\n",
        "\n",
        "weights_path = ROOT_PATH + '/rao/weights/unet_RAO_bce_corner_peak_half_step.h5'\n",
        "\n",
        "callbacks = [\n",
        "    EarlyStopping(patience=5, verbose=1),\n",
        "    ReduceLROnPlateau(factor=0.1, patience=2, min_lr=0.00001, verbose=1),\n",
        "    ModelCheckpoint(weights_path, verbose=1, save_best_only=True, save_weights_only=True)\n",
        "]\n",
        "\n",
        "results = model.fit(X_train_rao, y_train_rao,\n",
        "                    batch_size=1, epochs=100,\n",
        "                    callbacks=callbacks, \n",
        "                    validation_data=(X_test_rao, y_test_rao))\n",
        "\n",
        "plot_model_scores(results)"
      ],
      "execution_count": 18,
      "outputs": [
        {
          "output_type": "stream",
          "text": [
            "Train on 2111 samples, validate on 218 samples\n",
            "Epoch 1/100\n",
            "2111/2111 [==============================] - 286s 136ms/step - loss: 0.0115 - acc: 0.9982 - val_loss: 0.0027 - val_acc: 0.9992\n",
            "\n",
            "Epoch 00001: val_loss improved from inf to 0.00265, saving model to gdrive/My Drive/HSE/loops/rao/weights/unet_RAO_bce_corner_peak_half_step.h5\n",
            "Epoch 2/100\n",
            "2111/2111 [==============================] - 282s 134ms/step - loss: 0.0017 - acc: 0.9995 - val_loss: 0.0023 - val_acc: 0.9993\n",
            "\n",
            "Epoch 00002: val_loss improved from 0.00265 to 0.00230, saving model to gdrive/My Drive/HSE/loops/rao/weights/unet_RAO_bce_corner_peak_half_step.h5\n",
            "Epoch 3/100\n",
            "2111/2111 [==============================] - 283s 134ms/step - loss: 0.0016 - acc: 0.9995 - val_loss: 0.0022 - val_acc: 0.9993\n",
            "\n",
            "Epoch 00003: val_loss improved from 0.00230 to 0.00222, saving model to gdrive/My Drive/HSE/loops/rao/weights/unet_RAO_bce_corner_peak_half_step.h5\n",
            "Epoch 4/100\n",
            "2111/2111 [==============================] - 283s 134ms/step - loss: 0.0015 - acc: 0.9995 - val_loss: 0.0022 - val_acc: 0.9993\n",
            "\n",
            "Epoch 00004: ReduceLROnPlateau reducing learning rate to 0.00010000000474974513.\n",
            "\n",
            "Epoch 00004: val_loss improved from 0.00222 to 0.00222, saving model to gdrive/My Drive/HSE/loops/rao/weights/unet_RAO_bce_corner_peak_half_step.h5\n",
            "Epoch 5/100\n",
            "2111/2111 [==============================] - 283s 134ms/step - loss: 0.0014 - acc: 0.9995 - val_loss: 0.0021 - val_acc: 0.9993\n",
            "\n",
            "Epoch 00005: val_loss improved from 0.00222 to 0.00208, saving model to gdrive/My Drive/HSE/loops/rao/weights/unet_RAO_bce_corner_peak_half_step.h5\n",
            "Epoch 6/100\n",
            "2111/2111 [==============================] - 282s 134ms/step - loss: 0.0013 - acc: 0.9995 - val_loss: 0.0021 - val_acc: 0.9993\n",
            "\n",
            "Epoch 00006: val_loss did not improve from 0.00208\n",
            "Epoch 7/100\n",
            "2111/2111 [==============================] - 282s 133ms/step - loss: 0.0013 - acc: 0.9995 - val_loss: 0.0021 - val_acc: 0.9993\n",
            "\n",
            "Epoch 00007: ReduceLROnPlateau reducing learning rate to 1.0000000474974514e-05.\n",
            "\n",
            "Epoch 00007: val_loss improved from 0.00208 to 0.00207, saving model to gdrive/My Drive/HSE/loops/rao/weights/unet_RAO_bce_corner_peak_half_step.h5\n",
            "Epoch 8/100\n",
            "2111/2111 [==============================] - 282s 133ms/step - loss: 0.0013 - acc: 0.9995 - val_loss: 0.0021 - val_acc: 0.9993\n",
            "\n",
            "Epoch 00008: val_loss improved from 0.00207 to 0.00205, saving model to gdrive/My Drive/HSE/loops/rao/weights/unet_RAO_bce_corner_peak_half_step.h5\n",
            "Epoch 9/100\n",
            "2111/2111 [==============================] - 282s 133ms/step - loss: 0.0012 - acc: 0.9995 - val_loss: 0.0020 - val_acc: 0.9993\n",
            "\n",
            "Epoch 00009: ReduceLROnPlateau reducing learning rate to 1e-05.\n",
            "\n",
            "Epoch 00009: val_loss improved from 0.00205 to 0.00205, saving model to gdrive/My Drive/HSE/loops/rao/weights/unet_RAO_bce_corner_peak_half_step.h5\n",
            "Epoch 10/100\n",
            "2111/2111 [==============================] - 281s 133ms/step - loss: 0.0012 - acc: 0.9995 - val_loss: 0.0021 - val_acc: 0.9993\n",
            "\n",
            "Epoch 00010: val_loss did not improve from 0.00205\n",
            "Epoch 11/100\n",
            "2111/2111 [==============================] - 281s 133ms/step - loss: 0.0012 - acc: 0.9995 - val_loss: 0.0021 - val_acc: 0.9993\n",
            "\n",
            "Epoch 00011: val_loss did not improve from 0.00205\n",
            "Epoch 12/100\n",
            "2111/2111 [==============================] - 282s 133ms/step - loss: 0.0012 - acc: 0.9995 - val_loss: 0.0021 - val_acc: 0.9993\n",
            "\n",
            "Epoch 00012: val_loss did not improve from 0.00205\n",
            "Epoch 13/100\n",
            "2111/2111 [==============================] - 281s 133ms/step - loss: 0.0012 - acc: 0.9995 - val_loss: 0.0021 - val_acc: 0.9993\n",
            "\n",
            "Epoch 00013: val_loss did not improve from 0.00205\n",
            "Epoch 14/100\n",
            "2111/2111 [==============================] - 281s 133ms/step - loss: 0.0012 - acc: 0.9995 - val_loss: 0.0021 - val_acc: 0.9993\n",
            "\n",
            "Epoch 00014: val_loss did not improve from 0.00205\n",
            "Epoch 00014: early stopping\n"
          ],
          "name": "stdout"
        },
        {
          "output_type": "display_data",
          "data": {
            "image/png": "[encoded data removed]",
            "text/plain": [
              "<Figure size 360x360 with 1 Axes>"
            ]
          },
          "metadata": {
            "tags": []
          }
        }
      ]
    },
    {
      "cell_type": "markdown",
      "metadata": {
        "id": "gwWYJ7cEcafL",
        "colab_type": "text"
      },
      "source": [
        "### dice"
      ]
    },
    {
      "cell_type": "code",
      "metadata": {
        "id": "Nya_IAzG4akk",
        "colab_type": "code",
        "outputId": "6258c82b-0b8a-4d9d-fa81-fd04fa59b6ab",
        "colab": {
          "base_uri": "https://localhost:8080/",
          "height": 928
        }
      },
      "source": [
        "input_img = Input((256, 256, 1), name='img')\n",
        "model = get_unet(input_img, n_filters=64, dropout=0.05, batchnorm=True)\n",
        "\n",
        "model.compile(optimizer=Adam(), loss=dice_coef_loss, metrics=['accuracy'])\n",
        "\n",
        "weights_path = ROOT_PATH + '/rao/weights/unet_RAO_dice_corner_peak_half_step.h5'\n",
        "\n",
        "callbacks = [\n",
        "    EarlyStopping(patience=5, verbose=1),\n",
        "    ReduceLROnPlateau(factor=0.1, patience=2, min_lr=0.00001, verbose=1),\n",
        "    ModelCheckpoint(weights_path, verbose=1, save_best_only=True, save_weights_only=True)\n",
        "]\n",
        "\n",
        "results = model.fit(X_train_rao, y_train_rao,\n",
        "                    batch_size=1, epochs=100,\n",
        "                    callbacks=callbacks, \n",
        "                    validation_data=(X_test_rao, y_test_rao))\n",
        "\n",
        "plot_model_scores(results)"
      ],
      "execution_count": 19,
      "outputs": [
        {
          "output_type": "stream",
          "text": [
            "Train on 2111 samples, validate on 218 samples\n",
            "Epoch 1/100\n",
            "2111/2111 [==============================] - 288s 137ms/step - loss: 0.4875 - acc: 0.9953 - val_loss: 0.5184 - val_acc: 0.9992\n",
            "\n",
            "Epoch 00001: val_loss improved from inf to 0.51841, saving model to gdrive/My Drive/HSE/loops/rao/weights/unet_RAO_dice_corner_peak_half_step.h5\n",
            "Epoch 2/100\n",
            "2111/2111 [==============================] - 279s 132ms/step - loss: 0.3969 - acc: 0.9994 - val_loss: 0.4049 - val_acc: 0.9992\n",
            "\n",
            "Epoch 00002: val_loss improved from 0.51841 to 0.40494, saving model to gdrive/My Drive/HSE/loops/rao/weights/unet_RAO_dice_corner_peak_half_step.h5\n",
            "Epoch 3/100\n",
            "2111/2111 [==============================] - 280s 133ms/step - loss: 0.6541 - acc: 0.9993 - val_loss: 0.9350 - val_acc: 0.9990\n",
            "\n",
            "Epoch 00003: val_loss did not improve from 0.40494\n",
            "Epoch 4/100\n",
            "2111/2111 [==============================] - 279s 132ms/step - loss: 0.8000 - acc: 0.9993 - val_loss: 0.9350 - val_acc: 0.9990\n",
            "\n",
            "Epoch 00004: ReduceLROnPlateau reducing learning rate to 0.00010000000474974513.\n",
            "\n",
            "Epoch 00004: val_loss did not improve from 0.40494\n",
            "Epoch 5/100\n",
            "2111/2111 [==============================] - 278s 132ms/step - loss: 0.8000 - acc: 0.9993 - val_loss: 0.9350 - val_acc: 0.9990\n",
            "\n",
            "Epoch 00005: val_loss did not improve from 0.40494\n",
            "Epoch 6/100\n",
            "2111/2111 [==============================] - 278s 132ms/step - loss: 0.8000 - acc: 0.9993 - val_loss: 0.9350 - val_acc: 0.9990\n",
            "\n",
            "Epoch 00006: ReduceLROnPlateau reducing learning rate to 1.0000000474974514e-05.\n",
            "\n",
            "Epoch 00006: val_loss did not improve from 0.40494\n",
            "Epoch 7/100\n",
            "2111/2111 [==============================] - 278s 132ms/step - loss: 0.8000 - acc: 0.9993 - val_loss: 0.9350 - val_acc: 0.9990\n",
            "\n",
            "Epoch 00007: val_loss did not improve from 0.40494\n",
            "Epoch 00007: early stopping\n"
          ],
          "name": "stdout"
        },
        {
          "output_type": "display_data",
          "data": {
            "image/png": "[encoded data removed]",
            "text/plain": [
              "<Figure size 360x360 with 1 Axes>"
            ]
          },
          "metadata": {
            "tags": []
          }
        }
      ]
    },
    {
      "cell_type": "markdown",
      "metadata": {
        "id": "cm_GY19_cc1Y",
        "colab_type": "text"
      },
      "source": [
        "### bcd"
      ]
    },
    {
      "cell_type": "code",
      "metadata": {
        "id": "KrHaRXE0cJgo",
        "colab_type": "code",
        "outputId": "db840a95-d1fc-4950-9ac3-6ca32d8ef35b",
        "colab": {
          "base_uri": "https://localhost:8080/",
          "height": 819
        }
      },
      "source": [
        "input_img = Input((256, 256, 1), name='img')\n",
        "model = get_unet(input_img, n_filters=64, dropout=0.05, batchnorm=True)\n",
        "\n",
        "model.compile(optimizer=Adam(), loss=bce_dice_loss, metrics=['accuracy'])\n",
        "\n",
        "weights_path = ROOT_PATH + '/rao/weights/unet_RAO_bce_dice_loss_corner_peak_half_step.h5'\n",
        "\n",
        "callbacks = [\n",
        "    EarlyStopping(patience=5, verbose=1),\n",
        "    ReduceLROnPlateau(factor=0.1, patience=2, min_lr=0.00001, verbose=1),\n",
        "    ModelCheckpoint(weights_path, verbose=1, save_best_only=True, save_weights_only=True)\n",
        "]\n",
        "\n",
        "results = model.fit(X_train_rao, y_train_rao,\n",
        "                    batch_size=1, epochs=100,\n",
        "                    callbacks=callbacks, \n",
        "                    validation_data=(X_test_rao, y_test_rao))\n"
      ],
      "execution_count": 20,
      "outputs": [
        {
          "output_type": "stream",
          "text": [
            "Train on 2111 samples, validate on 218 samples\n",
            "Epoch 1/100\n",
            "2111/2111 [==============================] - 291s 138ms/step - loss: 0.6224 - acc: 0.9989 - val_loss: 0.9515 - val_acc: 0.9990\n",
            "\n",
            "Epoch 00001: val_loss improved from inf to 0.95154, saving model to gdrive/My Drive/HSE/loops/rao/weights/unet_RAO_bce_dice_loss_corner_peak_half_step.h5\n",
            "Epoch 2/100\n",
            "2111/2111 [==============================] - 280s 133ms/step - loss: 0.5705 - acc: 0.9993 - val_loss: 0.4122 - val_acc: 0.9992\n",
            "\n",
            "Epoch 00002: val_loss improved from 0.95154 to 0.41219, saving model to gdrive/My Drive/HSE/loops/rao/weights/unet_RAO_bce_dice_loss_corner_peak_half_step.h5\n",
            "Epoch 3/100\n",
            "2111/2111 [==============================] - 281s 133ms/step - loss: 0.3933 - acc: 0.9994 - val_loss: 0.4147 - val_acc: 0.9993\n",
            "\n",
            "Epoch 00003: val_loss did not improve from 0.41219\n",
            "Epoch 4/100\n",
            "2111/2111 [==============================] - 281s 133ms/step - loss: 0.3744 - acc: 0.9994 - val_loss: 0.3994 - val_acc: 0.9992\n",
            "\n",
            "Epoch 00004: val_loss improved from 0.41219 to 0.39936, saving model to gdrive/My Drive/HSE/loops/rao/weights/unet_RAO_bce_dice_loss_corner_peak_half_step.h5\n",
            "Epoch 5/100\n",
            "2111/2111 [==============================] - 280s 133ms/step - loss: 0.3682 - acc: 0.9994 - val_loss: 0.3901 - val_acc: 0.9992\n",
            "\n",
            "Epoch 00005: val_loss improved from 0.39936 to 0.39005, saving model to gdrive/My Drive/HSE/loops/rao/weights/unet_RAO_bce_dice_loss_corner_peak_half_step.h5\n",
            "Epoch 6/100\n",
            "2111/2111 [==============================] - 280s 133ms/step - loss: 0.3580 - acc: 0.9994 - val_loss: 0.3973 - val_acc: 0.9993\n",
            "\n",
            "Epoch 00006: val_loss did not improve from 0.39005\n",
            "Epoch 7/100\n",
            "2111/2111 [==============================] - 280s 133ms/step - loss: 0.3596 - acc: 0.9994 - val_loss: 0.3971 - val_acc: 0.9992\n",
            "\n",
            "Epoch 00007: ReduceLROnPlateau reducing learning rate to 0.00010000000474974513.\n",
            "\n",
            "Epoch 00007: val_loss did not improve from 0.39005\n",
            "Epoch 8/100\n",
            "2111/2111 [==============================] - 279s 132ms/step - loss: 0.3343 - acc: 0.9995 - val_loss: 0.3961 - val_acc: 0.9992\n",
            "\n",
            "Epoch 00008: val_loss did not improve from 0.39005\n",
            "Epoch 9/100\n",
            "2111/2111 [==============================] - 279s 132ms/step - loss: 0.3287 - acc: 0.9995 - val_loss: 0.3920 - val_acc: 0.9993\n",
            "\n",
            "Epoch 00009: ReduceLROnPlateau reducing learning rate to 1.0000000474974514e-05.\n",
            "\n",
            "Epoch 00009: val_loss did not improve from 0.39005\n",
            "Epoch 10/100\n",
            "2111/2111 [==============================] - 279s 132ms/step - loss: 0.3230 - acc: 0.9995 - val_loss: 0.3964 - val_acc: 0.9993\n",
            "\n",
            "Epoch 00010: val_loss did not improve from 0.39005\n",
            "Epoch 00010: early stopping\n"
          ],
          "name": "stdout"
        }
      ]
    },
    {
      "cell_type": "markdown",
      "metadata": {
        "id": "SJFZtslbCuC7",
        "colab_type": "text"
      },
      "source": [
        "# Transfer learning"
      ]
    },
    {
      "cell_type": "markdown",
      "metadata": {
        "id": "2YWJdRHSEIXr",
        "colab_type": "text"
      },
      "source": [
        "### binary-crossentropy"
      ]
    },
    {
      "cell_type": "code",
      "metadata": {
        "id": "g7bb4yjKCx6u",
        "colab_type": "code",
        "outputId": "be01f175-cb27-4627-a1b2-b9b544bc5dbe",
        "colab": {
          "base_uri": "https://localhost:8080/",
          "height": 1000
        }
      },
      "source": [
        "input_img = Input((256, 256, 1), name='img')\n",
        "model = get_unet(input_img, n_filters=64, dropout=0.05, batchnorm=True)\n",
        "\n",
        "model.compile(optimizer=Adam(), loss=binary_crossentropy, metrics=['accuracy'])\n",
        "\n",
        "## load rao weights\n",
        "model.load_weights(ROOT_PATH + '/rao/weights/unet_RAO_bce_corner_peak_half_step.h5')\n",
        "\n",
        "weights_path = ROOT_PATH + '/dicty/weights/unet_transfer_bce_corner_peak_half_step.h5'\n",
        "\n",
        "callbacks = [\n",
        "    EarlyStopping(patience=5, verbose=1),\n",
        "    ReduceLROnPlateau(factor=0.1, patience=2, min_lr=0.00001, verbose=1),\n",
        "    ModelCheckpoint(weights_path, verbose=1, save_best_only=True, save_weights_only=True)\n",
        "]\n",
        "\n",
        "results = model.fit(X_train, y_train,\n",
        "                    batch_size=1, epochs=100,\n",
        "                    callbacks=callbacks, \n",
        "                    validation_data=(X_test, y_test))\n",
        "\n",
        "plot_model_scores(results)"
      ],
      "execution_count": 21,
      "outputs": [
        {
          "output_type": "stream",
          "text": [
            "Train on 39 samples, validate on 14 samples\n",
            "Epoch 1/100\n",
            "39/39 [==============================] - 15s 384ms/step - loss: 0.0067 - acc: 0.9980 - val_loss: 0.0054 - val_acc: 0.9986\n",
            "\n",
            "Epoch 00001: val_loss improved from inf to 0.00543, saving model to gdrive/My Drive/HSE/loops/dicty/weights/unet_transfer_bce_corner_peak_half_step.h5\n",
            "Epoch 2/100\n",
            "39/39 [==============================] - 5s 139ms/step - loss: 0.0056 - acc: 0.9982 - val_loss: 0.0040 - val_acc: 0.9987\n",
            "\n",
            "Epoch 00002: val_loss improved from 0.00543 to 0.00398, saving model to gdrive/My Drive/HSE/loops/dicty/weights/unet_transfer_bce_corner_peak_half_step.h5\n",
            "Epoch 3/100\n",
            "39/39 [==============================] - 5s 139ms/step - loss: 0.0049 - acc: 0.9983 - val_loss: 0.0040 - val_acc: 0.9987\n",
            "\n",
            "Epoch 00003: val_loss did not improve from 0.00398\n",
            "Epoch 4/100\n",
            "39/39 [==============================] - 5s 139ms/step - loss: 0.0045 - acc: 0.9984 - val_loss: 0.0038 - val_acc: 0.9988\n",
            "\n",
            "Epoch 00004: val_loss improved from 0.00398 to 0.00376, saving model to gdrive/My Drive/HSE/loops/dicty/weights/unet_transfer_bce_corner_peak_half_step.h5\n",
            "Epoch 5/100\n",
            "39/39 [==============================] - 5s 140ms/step - loss: 0.0041 - acc: 0.9985 - val_loss: 0.0038 - val_acc: 0.9987\n",
            "\n",
            "Epoch 00005: val_loss improved from 0.00376 to 0.00376, saving model to gdrive/My Drive/HSE/loops/dicty/weights/unet_transfer_bce_corner_peak_half_step.h5\n",
            "Epoch 6/100\n",
            "39/39 [==============================] - 5s 139ms/step - loss: 0.0038 - acc: 0.9986 - val_loss: 0.0049 - val_acc: 0.9987\n",
            "\n",
            "Epoch 00006: ReduceLROnPlateau reducing learning rate to 0.00010000000474974513.\n",
            "\n",
            "Epoch 00006: val_loss did not improve from 0.00376\n",
            "Epoch 7/100\n",
            "39/39 [==============================] - 5s 140ms/step - loss: 0.0032 - acc: 0.9987 - val_loss: 0.0036 - val_acc: 0.9988\n",
            "\n",
            "Epoch 00007: val_loss improved from 0.00376 to 0.00360, saving model to gdrive/My Drive/HSE/loops/dicty/weights/unet_transfer_bce_corner_peak_half_step.h5\n",
            "Epoch 8/100\n",
            "39/39 [==============================] - 5s 139ms/step - loss: 0.0030 - acc: 0.9988 - val_loss: 0.0037 - val_acc: 0.9988\n",
            "\n",
            "Epoch 00008: val_loss did not improve from 0.00360\n",
            "Epoch 9/100\n",
            "39/39 [==============================] - 5s 139ms/step - loss: 0.0029 - acc: 0.9988 - val_loss: 0.0037 - val_acc: 0.9988\n",
            "\n",
            "Epoch 00009: ReduceLROnPlateau reducing learning rate to 1.0000000474974514e-05.\n",
            "\n",
            "Epoch 00009: val_loss did not improve from 0.00360\n",
            "Epoch 10/100\n",
            "39/39 [==============================] - 5s 139ms/step - loss: 0.0028 - acc: 0.9989 - val_loss: 0.0038 - val_acc: 0.9988\n",
            "\n",
            "Epoch 00010: val_loss did not improve from 0.00360\n",
            "Epoch 11/100\n",
            "39/39 [==============================] - 5s 139ms/step - loss: 0.0028 - acc: 0.9989 - val_loss: 0.0038 - val_acc: 0.9988\n",
            "\n",
            "Epoch 00011: ReduceLROnPlateau reducing learning rate to 1e-05.\n",
            "\n",
            "Epoch 00011: val_loss did not improve from 0.00360\n",
            "Epoch 12/100\n",
            "39/39 [==============================] - 5s 139ms/step - loss: 0.0028 - acc: 0.9989 - val_loss: 0.0039 - val_acc: 0.9987\n",
            "\n",
            "Epoch 00012: val_loss did not improve from 0.00360\n",
            "Epoch 00012: early stopping\n"
          ],
          "name": "stdout"
        },
        {
          "output_type": "display_data",
          "data": {
            "image/png": "[encoded data removed]",
            "text/plain": [
              "<Figure size 360x360 with 1 Axes>"
            ]
          },
          "metadata": {
            "tags": []
          }
        }
      ]
    },
    {
      "cell_type": "markdown",
      "metadata": {
        "id": "QF4RpSPoEQ_n",
        "colab_type": "text"
      },
      "source": [
        "### dice"
      ]
    },
    {
      "cell_type": "code",
      "metadata": {
        "id": "qTH_GJ_5DlzG",
        "colab_type": "code",
        "outputId": "7233604b-f89d-4bfa-fcc6-5918cb2bc705",
        "colab": {
          "base_uri": "https://localhost:8080/",
          "height": 1000
        }
      },
      "source": [
        "input_img = Input((256, 256, 1), name='img')\n",
        "model = get_unet(input_img, n_filters=64, dropout=0.05, batchnorm=True)\n",
        "\n",
        "model.compile(optimizer=Adam(), loss=dice_coef_loss, metrics=['accuracy'])\n",
        "\n",
        "## load rao weights\n",
        "model.load_weights(ROOT_PATH + '/rao/weights/unet_RAO_dice_corner_peak_half_step.h5')\n",
        "\n",
        "weights_path = ROOT_PATH + '/dicty/weights/unet_transfer_dice_corner_peak_half_step.h5'\n",
        "\n",
        "callbacks = [\n",
        "    EarlyStopping(patience=5, verbose=1),\n",
        "    ReduceLROnPlateau(factor=0.1, patience=2, min_lr=0.00001, verbose=1),\n",
        "    ModelCheckpoint(weights_path, verbose=1, save_best_only=True, save_weights_only=True)\n",
        "]\n",
        "\n",
        "results = model.fit(X_train, y_train,\n",
        "                    batch_size=1, epochs=100,\n",
        "                    callbacks=callbacks, \n",
        "                    validation_data=(X_test, y_test))\n",
        "\n",
        "plot_model_scores(results)"
      ],
      "execution_count": 22,
      "outputs": [
        {
          "output_type": "stream",
          "text": [
            "Train on 39 samples, validate on 14 samples\n",
            "Epoch 1/100\n",
            "39/39 [==============================] - 16s 406ms/step - loss: 0.7296 - acc: 0.9974 - val_loss: 0.6091 - val_acc: 0.9976\n",
            "\n",
            "Epoch 00001: val_loss improved from inf to 0.60913, saving model to gdrive/My Drive/HSE/loops/dicty/weights/unet_transfer_dice_corner_peak_half_step.h5\n",
            "Epoch 2/100\n",
            "39/39 [==============================] - 5s 138ms/step - loss: 0.6114 - acc: 0.9971 - val_loss: 0.5714 - val_acc: 0.9980\n",
            "\n",
            "Epoch 00002: val_loss improved from 0.60913 to 0.57136, saving model to gdrive/My Drive/HSE/loops/dicty/weights/unet_transfer_dice_corner_peak_half_step.h5\n",
            "Epoch 3/100\n",
            "39/39 [==============================] - 5s 136ms/step - loss: 0.5951 - acc: 0.9975 - val_loss: 0.5684 - val_acc: 0.9980\n",
            "\n",
            "Epoch 00003: val_loss improved from 0.57136 to 0.56843, saving model to gdrive/My Drive/HSE/loops/dicty/weights/unet_transfer_dice_corner_peak_half_step.h5\n",
            "Epoch 4/100\n",
            "39/39 [==============================] - 5s 137ms/step - loss: 0.5797 - acc: 0.9976 - val_loss: 0.5689 - val_acc: 0.9978\n",
            "\n",
            "Epoch 00004: val_loss did not improve from 0.56843\n",
            "Epoch 5/100\n",
            "39/39 [==============================] - 5s 137ms/step - loss: 0.5557 - acc: 0.9976 - val_loss: 0.6014 - val_acc: 0.9984\n",
            "\n",
            "Epoch 00005: ReduceLROnPlateau reducing learning rate to 0.00010000000474974513.\n",
            "\n",
            "Epoch 00005: val_loss did not improve from 0.56843\n",
            "Epoch 6/100\n",
            "39/39 [==============================] - 5s 138ms/step - loss: 0.5307 - acc: 0.9979 - val_loss: 0.5626 - val_acc: 0.9984\n",
            "\n",
            "Epoch 00006: val_loss improved from 0.56843 to 0.56257, saving model to gdrive/My Drive/HSE/loops/dicty/weights/unet_transfer_dice_corner_peak_half_step.h5\n",
            "Epoch 7/100\n",
            "39/39 [==============================] - 5s 137ms/step - loss: 0.5252 - acc: 0.9979 - val_loss: 0.5531 - val_acc: 0.9984\n",
            "\n",
            "Epoch 00007: val_loss improved from 0.56257 to 0.55309, saving model to gdrive/My Drive/HSE/loops/dicty/weights/unet_transfer_dice_corner_peak_half_step.h5\n",
            "Epoch 8/100\n",
            "39/39 [==============================] - 5s 137ms/step - loss: 0.5222 - acc: 0.9979 - val_loss: 0.5464 - val_acc: 0.9984\n",
            "\n",
            "Epoch 00008: val_loss improved from 0.55309 to 0.54637, saving model to gdrive/My Drive/HSE/loops/dicty/weights/unet_transfer_dice_corner_peak_half_step.h5\n",
            "Epoch 9/100\n",
            "39/39 [==============================] - 5s 137ms/step - loss: 0.5169 - acc: 0.9980 - val_loss: 0.5378 - val_acc: 0.9983\n",
            "\n",
            "Epoch 00009: val_loss improved from 0.54637 to 0.53781, saving model to gdrive/My Drive/HSE/loops/dicty/weights/unet_transfer_dice_corner_peak_half_step.h5\n",
            "Epoch 10/100\n",
            "39/39 [==============================] - 5s 137ms/step - loss: 0.5157 - acc: 0.9979 - val_loss: 0.5408 - val_acc: 0.9984\n",
            "\n",
            "Epoch 00010: val_loss did not improve from 0.53781\n",
            "Epoch 11/100\n",
            "39/39 [==============================] - 5s 138ms/step - loss: 0.5120 - acc: 0.9979 - val_loss: 0.5404 - val_acc: 0.9984\n",
            "\n",
            "Epoch 00011: ReduceLROnPlateau reducing learning rate to 1.0000000474974514e-05.\n",
            "\n",
            "Epoch 00011: val_loss did not improve from 0.53781\n",
            "Epoch 12/100\n",
            "39/39 [==============================] - 5s 138ms/step - loss: 0.5062 - acc: 0.9980 - val_loss: 0.5369 - val_acc: 0.9984\n",
            "\n",
            "Epoch 00012: val_loss improved from 0.53781 to 0.53689, saving model to gdrive/My Drive/HSE/loops/dicty/weights/unet_transfer_dice_corner_peak_half_step.h5\n",
            "Epoch 13/100\n",
            "39/39 [==============================] - 5s 139ms/step - loss: 0.5069 - acc: 0.9980 - val_loss: 0.5352 - val_acc: 0.9984\n",
            "\n",
            "Epoch 00013: val_loss improved from 0.53689 to 0.53523, saving model to gdrive/My Drive/HSE/loops/dicty/weights/unet_transfer_dice_corner_peak_half_step.h5\n",
            "Epoch 14/100\n",
            "39/39 [==============================] - 5s 138ms/step - loss: 0.5069 - acc: 0.9980 - val_loss: 0.5346 - val_acc: 0.9983\n",
            "\n",
            "Epoch 00014: val_loss improved from 0.53523 to 0.53462, saving model to gdrive/My Drive/HSE/loops/dicty/weights/unet_transfer_dice_corner_peak_half_step.h5\n",
            "Epoch 15/100\n",
            "39/39 [==============================] - 5s 139ms/step - loss: 0.5064 - acc: 0.9980 - val_loss: 0.5342 - val_acc: 0.9983\n",
            "\n",
            "Epoch 00015: val_loss improved from 0.53462 to 0.53420, saving model to gdrive/My Drive/HSE/loops/dicty/weights/unet_transfer_dice_corner_peak_half_step.h5\n",
            "Epoch 16/100\n",
            "39/39 [==============================] - 5s 138ms/step - loss: 0.5053 - acc: 0.9980 - val_loss: 0.5340 - val_acc: 0.9983\n",
            "\n",
            "Epoch 00016: val_loss improved from 0.53420 to 0.53401, saving model to gdrive/My Drive/HSE/loops/dicty/weights/unet_transfer_dice_corner_peak_half_step.h5\n",
            "Epoch 17/100\n",
            "39/39 [==============================] - 5s 138ms/step - loss: 0.5058 - acc: 0.9980 - val_loss: 0.5337 - val_acc: 0.9983\n",
            "\n",
            "Epoch 00017: val_loss improved from 0.53401 to 0.53368, saving model to gdrive/My Drive/HSE/loops/dicty/weights/unet_transfer_dice_corner_peak_half_step.h5\n",
            "Epoch 18/100\n",
            "39/39 [==============================] - 5s 139ms/step - loss: 0.5047 - acc: 0.9980 - val_loss: 0.5335 - val_acc: 0.9983\n",
            "\n",
            "Epoch 00018: val_loss improved from 0.53368 to 0.53354, saving model to gdrive/My Drive/HSE/loops/dicty/weights/unet_transfer_dice_corner_peak_half_step.h5\n",
            "Epoch 19/100\n",
            "39/39 [==============================] - 5s 139ms/step - loss: 0.5050 - acc: 0.9980 - val_loss: 0.5336 - val_acc: 0.9983\n",
            "\n",
            "Epoch 00019: val_loss did not improve from 0.53354\n",
            "Epoch 20/100\n",
            "39/39 [==============================] - 5s 139ms/step - loss: 0.5042 - acc: 0.9980 - val_loss: 0.5335 - val_acc: 0.9983\n",
            "\n",
            "Epoch 00020: ReduceLROnPlateau reducing learning rate to 1e-05.\n",
            "\n",
            "Epoch 00020: val_loss improved from 0.53354 to 0.53345, saving model to gdrive/My Drive/HSE/loops/dicty/weights/unet_transfer_dice_corner_peak_half_step.h5\n",
            "Epoch 21/100\n",
            "39/39 [==============================] - 5s 139ms/step - loss: 0.5041 - acc: 0.9980 - val_loss: 0.5332 - val_acc: 0.9983\n",
            "\n",
            "Epoch 00021: val_loss improved from 0.53345 to 0.53321, saving model to gdrive/My Drive/HSE/loops/dicty/weights/unet_transfer_dice_corner_peak_half_step.h5\n",
            "Epoch 22/100\n",
            "39/39 [==============================] - 5s 139ms/step - loss: 0.5051 - acc: 0.9980 - val_loss: 0.5333 - val_acc: 0.9983\n",
            "\n",
            "Epoch 00022: val_loss did not improve from 0.53321\n",
            "Epoch 23/100\n",
            "39/39 [==============================] - 5s 139ms/step - loss: 0.5033 - acc: 0.9980 - val_loss: 0.5331 - val_acc: 0.9983\n",
            "\n",
            "Epoch 00023: val_loss improved from 0.53321 to 0.53310, saving model to gdrive/My Drive/HSE/loops/dicty/weights/unet_transfer_dice_corner_peak_half_step.h5\n",
            "Epoch 24/100\n",
            "39/39 [==============================] - 5s 139ms/step - loss: 0.5028 - acc: 0.9980 - val_loss: 0.5330 - val_acc: 0.9983\n",
            "\n",
            "Epoch 00024: val_loss improved from 0.53310 to 0.53304, saving model to gdrive/My Drive/HSE/loops/dicty/weights/unet_transfer_dice_corner_peak_half_step.h5\n",
            "Epoch 25/100\n",
            "39/39 [==============================] - 5s 139ms/step - loss: 0.5034 - acc: 0.9980 - val_loss: 0.5327 - val_acc: 0.9983\n",
            "\n",
            "Epoch 00025: val_loss improved from 0.53304 to 0.53271, saving model to gdrive/My Drive/HSE/loops/dicty/weights/unet_transfer_dice_corner_peak_half_step.h5\n",
            "Epoch 26/100\n",
            "39/39 [==============================] - 5s 139ms/step - loss: 0.5026 - acc: 0.9980 - val_loss: 0.5327 - val_acc: 0.9983\n",
            "\n",
            "Epoch 00026: val_loss improved from 0.53271 to 0.53267, saving model to gdrive/My Drive/HSE/loops/dicty/weights/unet_transfer_dice_corner_peak_half_step.h5\n",
            "Epoch 27/100\n",
            "39/39 [==============================] - 5s 139ms/step - loss: 0.5022 - acc: 0.9980 - val_loss: 0.5326 - val_acc: 0.9983\n",
            "\n",
            "Epoch 00027: val_loss improved from 0.53267 to 0.53258, saving model to gdrive/My Drive/HSE/loops/dicty/weights/unet_transfer_dice_corner_peak_half_step.h5\n",
            "Epoch 28/100\n",
            "39/39 [==============================] - 5s 139ms/step - loss: 0.5011 - acc: 0.9980 - val_loss: 0.5323 - val_acc: 0.9983\n",
            "\n",
            "Epoch 00028: val_loss improved from 0.53258 to 0.53233, saving model to gdrive/My Drive/HSE/loops/dicty/weights/unet_transfer_dice_corner_peak_half_step.h5\n",
            "Epoch 29/100\n",
            "39/39 [==============================] - 5s 140ms/step - loss: 0.5024 - acc: 0.9980 - val_loss: 0.5325 - val_acc: 0.9983\n",
            "\n",
            "Epoch 00029: val_loss did not improve from 0.53233\n",
            "Epoch 30/100\n",
            "39/39 [==============================] - 5s 140ms/step - loss: 0.5019 - acc: 0.9980 - val_loss: 0.5323 - val_acc: 0.9983\n",
            "\n",
            "Epoch 00030: val_loss improved from 0.53233 to 0.53231, saving model to gdrive/My Drive/HSE/loops/dicty/weights/unet_transfer_dice_corner_peak_half_step.h5\n",
            "Epoch 31/100\n",
            "39/39 [==============================] - 5s 140ms/step - loss: 0.5027 - acc: 0.9980 - val_loss: 0.5322 - val_acc: 0.9983\n",
            "\n",
            "Epoch 00031: val_loss improved from 0.53231 to 0.53224, saving model to gdrive/My Drive/HSE/loops/dicty/weights/unet_transfer_dice_corner_peak_half_step.h5\n",
            "Epoch 32/100\n",
            "39/39 [==============================] - 5s 140ms/step - loss: 0.4999 - acc: 0.9980 - val_loss: 0.5322 - val_acc: 0.9983\n",
            "\n",
            "Epoch 00032: val_loss improved from 0.53224 to 0.53218, saving model to gdrive/My Drive/HSE/loops/dicty/weights/unet_transfer_dice_corner_peak_half_step.h5\n",
            "Epoch 33/100\n",
            "39/39 [==============================] - 5s 140ms/step - loss: 0.5004 - acc: 0.9980 - val_loss: 0.5320 - val_acc: 0.9983\n",
            "\n",
            "Epoch 00033: val_loss improved from 0.53218 to 0.53203, saving model to gdrive/My Drive/HSE/loops/dicty/weights/unet_transfer_dice_corner_peak_half_step.h5\n",
            "Epoch 34/100\n",
            "39/39 [==============================] - 5s 140ms/step - loss: 0.5015 - acc: 0.9980 - val_loss: 0.5320 - val_acc: 0.9983\n",
            "\n",
            "Epoch 00034: val_loss improved from 0.53203 to 0.53198, saving model to gdrive/My Drive/HSE/loops/dicty/weights/unet_transfer_dice_corner_peak_half_step.h5\n",
            "Epoch 35/100\n",
            "39/39 [==============================] - 5s 140ms/step - loss: 0.5015 - acc: 0.9980 - val_loss: 0.5320 - val_acc: 0.9983\n",
            "\n",
            "Epoch 00035: val_loss did not improve from 0.53198\n",
            "Epoch 36/100\n",
            "39/39 [==============================] - 5s 139ms/step - loss: 0.5001 - acc: 0.9980 - val_loss: 0.5319 - val_acc: 0.9983\n",
            "\n",
            "Epoch 00036: val_loss improved from 0.53198 to 0.53191, saving model to gdrive/My Drive/HSE/loops/dicty/weights/unet_transfer_dice_corner_peak_half_step.h5\n",
            "Epoch 37/100\n",
            "39/39 [==============================] - 5s 140ms/step - loss: 0.5001 - acc: 0.9980 - val_loss: 0.5317 - val_acc: 0.9983\n",
            "\n",
            "Epoch 00037: val_loss improved from 0.53191 to 0.53170, saving model to gdrive/My Drive/HSE/loops/dicty/weights/unet_transfer_dice_corner_peak_half_step.h5\n",
            "Epoch 38/100\n",
            "39/39 [==============================] - 5s 140ms/step - loss: 0.4983 - acc: 0.9980 - val_loss: 0.5316 - val_acc: 0.9983\n",
            "\n",
            "Epoch 00038: val_loss improved from 0.53170 to 0.53157, saving model to gdrive/My Drive/HSE/loops/dicty/weights/unet_transfer_dice_corner_peak_half_step.h5\n",
            "Epoch 39/100\n",
            "39/39 [==============================] - 5s 140ms/step - loss: 0.4980 - acc: 0.9980 - val_loss: 0.5314 - val_acc: 0.9983\n",
            "\n",
            "Epoch 00039: val_loss improved from 0.53157 to 0.53140, saving model to gdrive/My Drive/HSE/loops/dicty/weights/unet_transfer_dice_corner_peak_half_step.h5\n",
            "Epoch 40/100\n",
            "39/39 [==============================] - 5s 140ms/step - loss: 0.4994 - acc: 0.9980 - val_loss: 0.5313 - val_acc: 0.9983\n",
            "\n",
            "Epoch 00040: val_loss improved from 0.53140 to 0.53135, saving model to gdrive/My Drive/HSE/loops/dicty/weights/unet_transfer_dice_corner_peak_half_step.h5\n",
            "Epoch 41/100\n",
            "39/39 [==============================] - 5s 140ms/step - loss: 0.4985 - acc: 0.9980 - val_loss: 0.5313 - val_acc: 0.9983\n",
            "\n",
            "Epoch 00041: val_loss improved from 0.53135 to 0.53128, saving model to gdrive/My Drive/HSE/loops/dicty/weights/unet_transfer_dice_corner_peak_half_step.h5\n",
            "Epoch 42/100\n",
            "39/39 [==============================] - 5s 140ms/step - loss: 0.4977 - acc: 0.9980 - val_loss: 0.5312 - val_acc: 0.9983\n",
            "\n",
            "Epoch 00042: val_loss improved from 0.53128 to 0.53124, saving model to gdrive/My Drive/HSE/loops/dicty/weights/unet_transfer_dice_corner_peak_half_step.h5\n",
            "Epoch 43/100\n",
            "39/39 [==============================] - 5s 140ms/step - loss: 0.4987 - acc: 0.9980 - val_loss: 0.5313 - val_acc: 0.9983\n",
            "\n",
            "Epoch 00043: val_loss did not improve from 0.53124\n",
            "Epoch 44/100\n",
            "39/39 [==============================] - 5s 140ms/step - loss: 0.4979 - acc: 0.9980 - val_loss: 0.5311 - val_acc: 0.9983\n",
            "\n",
            "Epoch 00044: val_loss improved from 0.53124 to 0.53105, saving model to gdrive/My Drive/HSE/loops/dicty/weights/unet_transfer_dice_corner_peak_half_step.h5\n",
            "Epoch 45/100\n",
            "39/39 [==============================] - 5s 140ms/step - loss: 0.4981 - acc: 0.9980 - val_loss: 0.5311 - val_acc: 0.9983\n",
            "\n",
            "Epoch 00045: val_loss did not improve from 0.53105\n",
            "Epoch 46/100\n",
            "39/39 [==============================] - 5s 140ms/step - loss: 0.4964 - acc: 0.9980 - val_loss: 0.5307 - val_acc: 0.9983\n",
            "\n",
            "Epoch 00046: val_loss improved from 0.53105 to 0.53074, saving model to gdrive/My Drive/HSE/loops/dicty/weights/unet_transfer_dice_corner_peak_half_step.h5\n",
            "Epoch 47/100\n",
            "39/39 [==============================] - 5s 140ms/step - loss: 0.4966 - acc: 0.9980 - val_loss: 0.5308 - val_acc: 0.9983\n",
            "\n",
            "Epoch 00047: val_loss did not improve from 0.53074\n",
            "Epoch 48/100\n",
            "39/39 [==============================] - 5s 140ms/step - loss: 0.4963 - acc: 0.9980 - val_loss: 0.5304 - val_acc: 0.9983\n",
            "\n",
            "Epoch 00048: val_loss improved from 0.53074 to 0.53039, saving model to gdrive/My Drive/HSE/loops/dicty/weights/unet_transfer_dice_corner_peak_half_step.h5\n",
            "Epoch 49/100\n",
            "39/39 [==============================] - 5s 140ms/step - loss: 0.4971 - acc: 0.9980 - val_loss: 0.5305 - val_acc: 0.9983\n",
            "\n",
            "Epoch 00049: val_loss did not improve from 0.53039\n",
            "Epoch 50/100\n",
            "39/39 [==============================] - 5s 140ms/step - loss: 0.4968 - acc: 0.9980 - val_loss: 0.5304 - val_acc: 0.9983\n",
            "\n",
            "Epoch 00050: val_loss did not improve from 0.53039\n",
            "Epoch 51/100\n",
            "39/39 [==============================] - 5s 140ms/step - loss: 0.4951 - acc: 0.9980 - val_loss: 0.5305 - val_acc: 0.9983\n",
            "\n",
            "Epoch 00051: val_loss did not improve from 0.53039\n",
            "Epoch 52/100\n",
            "39/39 [==============================] - 5s 140ms/step - loss: 0.4955 - acc: 0.9980 - val_loss: 0.5302 - val_acc: 0.9983\n",
            "\n",
            "Epoch 00052: val_loss improved from 0.53039 to 0.53017, saving model to gdrive/My Drive/HSE/loops/dicty/weights/unet_transfer_dice_corner_peak_half_step.h5\n",
            "Epoch 53/100\n",
            "39/39 [==============================] - 6s 143ms/step - loss: 0.4925 - acc: 0.9981 - val_loss: 0.5298 - val_acc: 0.9983\n",
            "\n",
            "Epoch 00053: val_loss improved from 0.53017 to 0.52982, saving model to gdrive/My Drive/HSE/loops/dicty/weights/unet_transfer_dice_corner_peak_half_step.h5\n",
            "Epoch 54/100\n",
            "39/39 [==============================] - 5s 140ms/step - loss: 0.4960 - acc: 0.9980 - val_loss: 0.5297 - val_acc: 0.9983\n",
            "\n",
            "Epoch 00054: val_loss improved from 0.52982 to 0.52969, saving model to gdrive/My Drive/HSE/loops/dicty/weights/unet_transfer_dice_corner_peak_half_step.h5\n",
            "Epoch 55/100\n",
            "39/39 [==============================] - 5s 140ms/step - loss: 0.4958 - acc: 0.9980 - val_loss: 0.5297 - val_acc: 0.9983\n",
            "\n",
            "Epoch 00055: val_loss did not improve from 0.52969\n",
            "Epoch 56/100\n",
            "39/39 [==============================] - 5s 140ms/step - loss: 0.4944 - acc: 0.9980 - val_loss: 0.5294 - val_acc: 0.9983\n",
            "\n",
            "Epoch 00056: val_loss improved from 0.52969 to 0.52943, saving model to gdrive/My Drive/HSE/loops/dicty/weights/unet_transfer_dice_corner_peak_half_step.h5\n",
            "Epoch 57/100\n",
            "39/39 [==============================] - 5s 140ms/step - loss: 0.4952 - acc: 0.9980 - val_loss: 0.5294 - val_acc: 0.9983\n",
            "\n",
            "Epoch 00057: val_loss improved from 0.52943 to 0.52942, saving model to gdrive/My Drive/HSE/loops/dicty/weights/unet_transfer_dice_corner_peak_half_step.h5\n",
            "Epoch 58/100\n",
            "39/39 [==============================] - 5s 140ms/step - loss: 0.4938 - acc: 0.9981 - val_loss: 0.5291 - val_acc: 0.9983\n",
            "\n",
            "Epoch 00058: val_loss improved from 0.52942 to 0.52906, saving model to gdrive/My Drive/HSE/loops/dicty/weights/unet_transfer_dice_corner_peak_half_step.h5\n",
            "Epoch 59/100\n",
            "39/39 [==============================] - 5s 140ms/step - loss: 0.4932 - acc: 0.9980 - val_loss: 0.5289 - val_acc: 0.9983\n",
            "\n",
            "Epoch 00059: val_loss improved from 0.52906 to 0.52893, saving model to gdrive/My Drive/HSE/loops/dicty/weights/unet_transfer_dice_corner_peak_half_step.h5\n",
            "Epoch 60/100\n",
            "39/39 [==============================] - 5s 141ms/step - loss: 0.4950 - acc: 0.9980 - val_loss: 0.5287 - val_acc: 0.9983\n",
            "\n",
            "Epoch 00060: val_loss improved from 0.52893 to 0.52868, saving model to gdrive/My Drive/HSE/loops/dicty/weights/unet_transfer_dice_corner_peak_half_step.h5\n",
            "Epoch 61/100\n",
            "39/39 [==============================] - 5s 140ms/step - loss: 0.4926 - acc: 0.9980 - val_loss: 0.5288 - val_acc: 0.9983\n",
            "\n",
            "Epoch 00061: val_loss did not improve from 0.52868\n",
            "Epoch 62/100\n",
            "39/39 [==============================] - 5s 140ms/step - loss: 0.4929 - acc: 0.9980 - val_loss: 0.5288 - val_acc: 0.9983\n",
            "\n",
            "Epoch 00062: val_loss did not improve from 0.52868\n",
            "Epoch 63/100\n",
            "39/39 [==============================] - 5s 140ms/step - loss: 0.4935 - acc: 0.9981 - val_loss: 0.5288 - val_acc: 0.9983\n",
            "\n",
            "Epoch 00063: val_loss did not improve from 0.52868\n",
            "Epoch 64/100\n",
            "39/39 [==============================] - 5s 140ms/step - loss: 0.4918 - acc: 0.9981 - val_loss: 0.5288 - val_acc: 0.9983\n",
            "\n",
            "Epoch 00064: val_loss did not improve from 0.52868\n",
            "Epoch 65/100\n",
            "39/39 [==============================] - 5s 140ms/step - loss: 0.4920 - acc: 0.9980 - val_loss: 0.5285 - val_acc: 0.9983\n",
            "\n",
            "Epoch 00065: val_loss improved from 0.52868 to 0.52847, saving model to gdrive/My Drive/HSE/loops/dicty/weights/unet_transfer_dice_corner_peak_half_step.h5\n",
            "Epoch 66/100\n",
            "39/39 [==============================] - 6s 142ms/step - loss: 0.4913 - acc: 0.9981 - val_loss: 0.5281 - val_acc: 0.9984\n",
            "\n",
            "Epoch 00066: val_loss improved from 0.52847 to 0.52809, saving model to gdrive/My Drive/HSE/loops/dicty/weights/unet_transfer_dice_corner_peak_half_step.h5\n",
            "Epoch 67/100\n",
            "39/39 [==============================] - 5s 140ms/step - loss: 0.4920 - acc: 0.9981 - val_loss: 0.5281 - val_acc: 0.9984\n",
            "\n",
            "Epoch 00067: val_loss did not improve from 0.52809\n",
            "Epoch 68/100\n",
            "39/39 [==============================] - 5s 140ms/step - loss: 0.4911 - acc: 0.9981 - val_loss: 0.5281 - val_acc: 0.9984\n",
            "\n",
            "Epoch 00068: val_loss did not improve from 0.52809\n",
            "Epoch 69/100\n",
            "39/39 [==============================] - 5s 140ms/step - loss: 0.4922 - acc: 0.9981 - val_loss: 0.5279 - val_acc: 0.9984\n",
            "\n",
            "Epoch 00069: val_loss improved from 0.52809 to 0.52791, saving model to gdrive/My Drive/HSE/loops/dicty/weights/unet_transfer_dice_corner_peak_half_step.h5\n",
            "Epoch 70/100\n",
            "39/39 [==============================] - 6s 142ms/step - loss: 0.4910 - acc: 0.9981 - val_loss: 0.5274 - val_acc: 0.9984\n",
            "\n",
            "Epoch 00070: val_loss improved from 0.52791 to 0.52742, saving model to gdrive/My Drive/HSE/loops/dicty/weights/unet_transfer_dice_corner_peak_half_step.h5\n",
            "Epoch 71/100\n",
            "39/39 [==============================] - 5s 140ms/step - loss: 0.4896 - acc: 0.9981 - val_loss: 0.5274 - val_acc: 0.9984\n",
            "\n",
            "Epoch 00071: val_loss improved from 0.52742 to 0.52737, saving model to gdrive/My Drive/HSE/loops/dicty/weights/unet_transfer_dice_corner_peak_half_step.h5\n",
            "Epoch 72/100\n",
            "39/39 [==============================] - 5s 140ms/step - loss: 0.4892 - acc: 0.9981 - val_loss: 0.5271 - val_acc: 0.9984\n",
            "\n",
            "Epoch 00072: val_loss improved from 0.52737 to 0.52711, saving model to gdrive/My Drive/HSE/loops/dicty/weights/unet_transfer_dice_corner_peak_half_step.h5\n",
            "Epoch 73/100\n",
            "39/39 [==============================] - 5s 140ms/step - loss: 0.4893 - acc: 0.9981 - val_loss: 0.5274 - val_acc: 0.9984\n",
            "\n",
            "Epoch 00073: val_loss did not improve from 0.52711\n",
            "Epoch 74/100\n",
            "39/39 [==============================] - 5s 140ms/step - loss: 0.4912 - acc: 0.9981 - val_loss: 0.5272 - val_acc: 0.9984\n",
            "\n",
            "Epoch 00074: val_loss did not improve from 0.52711\n",
            "Epoch 75/100\n",
            "39/39 [==============================] - 5s 140ms/step - loss: 0.4901 - acc: 0.9981 - val_loss: 0.5272 - val_acc: 0.9984\n",
            "\n",
            "Epoch 00075: val_loss did not improve from 0.52711\n",
            "Epoch 76/100\n",
            "39/39 [==============================] - 5s 140ms/step - loss: 0.4893 - acc: 0.9981 - val_loss: 0.5273 - val_acc: 0.9984\n",
            "\n",
            "Epoch 00076: val_loss did not improve from 0.52711\n",
            "Epoch 77/100\n",
            "39/39 [==============================] - 5s 140ms/step - loss: 0.4895 - acc: 0.9981 - val_loss: 0.5267 - val_acc: 0.9984\n",
            "\n",
            "Epoch 00077: val_loss improved from 0.52711 to 0.52674, saving model to gdrive/My Drive/HSE/loops/dicty/weights/unet_transfer_dice_corner_peak_half_step.h5\n",
            "Epoch 78/100\n",
            "39/39 [==============================] - 6s 142ms/step - loss: 0.4887 - acc: 0.9981 - val_loss: 0.5268 - val_acc: 0.9984\n",
            "\n",
            "Epoch 00078: val_loss did not improve from 0.52674\n",
            "Epoch 79/100\n",
            "39/39 [==============================] - 5s 140ms/step - loss: 0.4884 - acc: 0.9981 - val_loss: 0.5271 - val_acc: 0.9984\n",
            "\n",
            "Epoch 00079: val_loss did not improve from 0.52674\n",
            "Epoch 80/100\n",
            "39/39 [==============================] - 5s 140ms/step - loss: 0.4877 - acc: 0.9981 - val_loss: 0.5272 - val_acc: 0.9984\n",
            "\n",
            "Epoch 00080: val_loss did not improve from 0.52674\n",
            "Epoch 81/100\n",
            "39/39 [==============================] - 5s 141ms/step - loss: 0.4880 - acc: 0.9981 - val_loss: 0.5269 - val_acc: 0.9984\n",
            "\n",
            "Epoch 00081: val_loss did not improve from 0.52674\n",
            "Epoch 82/100\n",
            "39/39 [==============================] - 5s 140ms/step - loss: 0.4913 - acc: 0.9981 - val_loss: 0.5266 - val_acc: 0.9984\n",
            "\n",
            "Epoch 00082: val_loss improved from 0.52674 to 0.52655, saving model to gdrive/My Drive/HSE/loops/dicty/weights/unet_transfer_dice_corner_peak_half_step.h5\n",
            "Epoch 83/100\n",
            "39/39 [==============================] - 6s 142ms/step - loss: 0.4884 - acc: 0.9981 - val_loss: 0.5263 - val_acc: 0.9984\n",
            "\n",
            "Epoch 00083: val_loss improved from 0.52655 to 0.52626, saving model to gdrive/My Drive/HSE/loops/dicty/weights/unet_transfer_dice_corner_peak_half_step.h5\n",
            "Epoch 84/100\n",
            "39/39 [==============================] - 5s 140ms/step - loss: 0.4878 - acc: 0.9981 - val_loss: 0.5262 - val_acc: 0.9984\n",
            "\n",
            "Epoch 00084: val_loss improved from 0.52626 to 0.52622, saving model to gdrive/My Drive/HSE/loops/dicty/weights/unet_transfer_dice_corner_peak_half_step.h5\n",
            "Epoch 85/100\n",
            "39/39 [==============================] - 5s 140ms/step - loss: 0.4872 - acc: 0.9981 - val_loss: 0.5264 - val_acc: 0.9984\n",
            "\n",
            "Epoch 00085: val_loss did not improve from 0.52622\n",
            "Epoch 86/100\n",
            "39/39 [==============================] - 5s 140ms/step - loss: 0.4856 - acc: 0.9981 - val_loss: 0.5260 - val_acc: 0.9984\n",
            "\n",
            "Epoch 00086: val_loss improved from 0.52622 to 0.52601, saving model to gdrive/My Drive/HSE/loops/dicty/weights/unet_transfer_dice_corner_peak_half_step.h5\n",
            "Epoch 87/100\n",
            "39/39 [==============================] - 5s 140ms/step - loss: 0.4874 - acc: 0.9981 - val_loss: 0.5259 - val_acc: 0.9984\n",
            "\n",
            "Epoch 00087: val_loss improved from 0.52601 to 0.52589, saving model to gdrive/My Drive/HSE/loops/dicty/weights/unet_transfer_dice_corner_peak_half_step.h5\n",
            "Epoch 88/100\n",
            "39/39 [==============================] - 5s 141ms/step - loss: 0.4853 - acc: 0.9981 - val_loss: 0.5258 - val_acc: 0.9984\n",
            "\n",
            "Epoch 00088: val_loss improved from 0.52589 to 0.52577, saving model to gdrive/My Drive/HSE/loops/dicty/weights/unet_transfer_dice_corner_peak_half_step.h5\n",
            "Epoch 89/100\n",
            "39/39 [==============================] - 5s 140ms/step - loss: 0.4868 - acc: 0.9981 - val_loss: 0.5255 - val_acc: 0.9984\n",
            "\n",
            "Epoch 00089: val_loss improved from 0.52577 to 0.52553, saving model to gdrive/My Drive/HSE/loops/dicty/weights/unet_transfer_dice_corner_peak_half_step.h5\n",
            "Epoch 90/100\n",
            "39/39 [==============================] - 5s 140ms/step - loss: 0.4857 - acc: 0.9981 - val_loss: 0.5254 - val_acc: 0.9984\n",
            "\n",
            "Epoch 00090: val_loss improved from 0.52553 to 0.52543, saving model to gdrive/My Drive/HSE/loops/dicty/weights/unet_transfer_dice_corner_peak_half_step.h5\n",
            "Epoch 91/100\n",
            "39/39 [==============================] - 5s 140ms/step - loss: 0.4869 - acc: 0.9981 - val_loss: 0.5257 - val_acc: 0.9984\n",
            "\n",
            "Epoch 00091: val_loss did not improve from 0.52543\n",
            "Epoch 92/100\n",
            "39/39 [==============================] - 5s 140ms/step - loss: 0.4839 - acc: 0.9981 - val_loss: 0.5254 - val_acc: 0.9984\n",
            "\n",
            "Epoch 00092: val_loss did not improve from 0.52543\n",
            "Epoch 93/100\n",
            "39/39 [==============================] - 5s 140ms/step - loss: 0.4855 - acc: 0.9981 - val_loss: 0.5252 - val_acc: 0.9984\n",
            "\n",
            "Epoch 00093: val_loss improved from 0.52543 to 0.52520, saving model to gdrive/My Drive/HSE/loops/dicty/weights/unet_transfer_dice_corner_peak_half_step.h5\n",
            "Epoch 94/100\n",
            "39/39 [==============================] - 6s 142ms/step - loss: 0.4837 - acc: 0.9981 - val_loss: 0.5253 - val_acc: 0.9984\n",
            "\n",
            "Epoch 00094: val_loss did not improve from 0.52520\n",
            "Epoch 95/100\n",
            "39/39 [==============================] - 5s 140ms/step - loss: 0.4853 - acc: 0.9981 - val_loss: 0.5256 - val_acc: 0.9984\n",
            "\n",
            "Epoch 00095: val_loss did not improve from 0.52520\n",
            "Epoch 96/100\n",
            "39/39 [==============================] - 5s 140ms/step - loss: 0.4836 - acc: 0.9981 - val_loss: 0.5255 - val_acc: 0.9984\n",
            "\n",
            "Epoch 00096: val_loss did not improve from 0.52520\n",
            "Epoch 97/100\n",
            "39/39 [==============================] - 5s 140ms/step - loss: 0.4850 - acc: 0.9981 - val_loss: 0.5254 - val_acc: 0.9984\n",
            "\n",
            "Epoch 00097: val_loss did not improve from 0.52520\n",
            "Epoch 98/100\n",
            "39/39 [==============================] - 5s 140ms/step - loss: 0.4836 - acc: 0.9981 - val_loss: 0.5252 - val_acc: 0.9984\n",
            "\n",
            "Epoch 00098: val_loss improved from 0.52520 to 0.52515, saving model to gdrive/My Drive/HSE/loops/dicty/weights/unet_transfer_dice_corner_peak_half_step.h5\n",
            "Epoch 99/100\n",
            "39/39 [==============================] - 5s 140ms/step - loss: 0.4840 - acc: 0.9981 - val_loss: 0.5249 - val_acc: 0.9984\n",
            "\n",
            "Epoch 00099: val_loss improved from 0.52515 to 0.52493, saving model to gdrive/My Drive/HSE/loops/dicty/weights/unet_transfer_dice_corner_peak_half_step.h5\n",
            "Epoch 100/100\n",
            "39/39 [==============================] - 5s 140ms/step - loss: 0.4828 - acc: 0.9981 - val_loss: 0.5248 - val_acc: 0.9984\n",
            "\n",
            "Epoch 00100: val_loss improved from 0.52493 to 0.52475, saving model to gdrive/My Drive/HSE/loops/dicty/weights/unet_transfer_dice_corner_peak_half_step.h5\n"
          ],
          "name": "stdout"
        },
        {
          "output_type": "display_data",
          "data": {
            "image/png": "[encoded data removed]",
            "text/plain": [
              "<Figure size 360x360 with 1 Axes>"
            ]
          },
          "metadata": {
            "tags": []
          }
        }
      ]
    },
    {
      "cell_type": "code",
      "metadata": {
        "id": "7OnP9_ZAzuol",
        "colab_type": "code",
        "outputId": "93cef638-0dbd-4374-cfec-a8d46a41a06f",
        "colab": {
          "base_uri": "https://localhost:8080/"
        }
      },
      "source": [
        "from sklearn.metrics import jaccard_similarity_score, jaccard_score\n",
        "\n",
        "jaccard_similarity_score(y_test[index].reshape((256,256)), preds_test_t[index].reshape((256,256)))"
      ],
      "execution_count": 0,
      "outputs": [
        {
          "output_type": "stream",
          "text": [
            "/usr/local/lib/python3.6/dist-packages/sklearn/metrics/classification.py:635: DeprecationWarning: jaccard_similarity_score has been deprecated and replaced with jaccard_score. It will be removed in version 0.23. This implementation has surprising behavior for binary and multiclass classification tasks.\n",
            "  'and multiclass classification tasks.', DeprecationWarning)\n"
          ],
          "name": "stderr"
        },
        {
          "output_type": "execute_result",
          "data": {
            "text/plain": [
              "0.84375"
            ]
          },
          "metadata": {
            "tags": []
          },
          "execution_count": 22
        }
      ]
    },
    {
      "cell_type": "markdown",
      "metadata": {
        "id": "EMb2JtEkcAUE",
        "colab_type": "text"
      },
      "source": [
        "### bce-dice"
      ]
    },
    {
      "cell_type": "code",
      "metadata": {
        "id": "WBPofLFxhYVx",
        "colab_type": "code",
        "outputId": "35489d9c-da0b-4843-e0ab-5e7d63d00022",
        "colab": {
          "base_uri": "https://localhost:8080/",
          "height": 1000
        }
      },
      "source": [
        "input_img = Input((256, 256, 1), name='img')\n",
        "model = get_unet(input_img, n_filters=64, dropout=0.05, batchnorm=True)\n",
        "\n",
        "model.compile(optimizer=Adam(), loss=bce_dice_loss, metrics=['accuracy'])\n",
        "\n",
        "## load rao weights\n",
        "model.load_weights(ROOT_PATH + '/rao/weights/unet_RAO_bce_dice_loss_corner_peak_half_step.h5')\n",
        "\n",
        "weights_path = ROOT_PATH + '/dicty/weights/unet_transfer_bce_dice_loss_corner_peak_half_step.h5'\n",
        "\n",
        "callbacks = [\n",
        "    EarlyStopping(patience=5, verbose=1),\n",
        "    ReduceLROnPlateau(factor=0.1, patience=2, min_lr=0.00001, verbose=1),\n",
        "    ModelCheckpoint(weights_path, verbose=1, save_best_only=True, save_weights_only=True)\n",
        "]\n",
        "\n",
        "results = model.fit(X_train, y_train,\n",
        "                    batch_size=1, epochs=100,\n",
        "                    callbacks=callbacks, \n",
        "                    validation_data=(X_test, y_test))\n",
        "\n",
        "plot_model_scores(results)"
      ],
      "execution_count": 23,
      "outputs": [
        {
          "output_type": "stream",
          "text": [
            "Train on 39 samples, validate on 14 samples\n",
            "Epoch 1/100\n",
            "39/39 [==============================] - 17s 434ms/step - loss: 0.6821 - acc: 0.9974 - val_loss: 0.6127 - val_acc: 0.9978\n",
            "\n",
            "Epoch 00001: val_loss improved from inf to 0.61266, saving model to gdrive/My Drive/HSE/loops/dicty/weights/unet_transfer_bce_dice_loss_corner_peak_half_step.h5\n",
            "Epoch 2/100\n",
            "39/39 [==============================] - 5s 140ms/step - loss: 0.6049 - acc: 0.9975 - val_loss: 0.6094 - val_acc: 0.9980\n",
            "\n",
            "Epoch 00002: val_loss improved from 0.61266 to 0.60944, saving model to gdrive/My Drive/HSE/loops/dicty/weights/unet_transfer_bce_dice_loss_corner_peak_half_step.h5\n",
            "Epoch 3/100\n",
            "39/39 [==============================] - 5s 138ms/step - loss: 0.5794 - acc: 0.9976 - val_loss: 0.5961 - val_acc: 0.9980\n",
            "\n",
            "Epoch 00003: val_loss improved from 0.60944 to 0.59614, saving model to gdrive/My Drive/HSE/loops/dicty/weights/unet_transfer_bce_dice_loss_corner_peak_half_step.h5\n",
            "Epoch 4/100\n",
            "39/39 [==============================] - 5s 138ms/step - loss: 0.5620 - acc: 0.9978 - val_loss: 0.6337 - val_acc: 0.9983\n",
            "\n",
            "Epoch 00004: val_loss did not improve from 0.59614\n",
            "Epoch 5/100\n",
            "39/39 [==============================] - 5s 139ms/step - loss: 0.5508 - acc: 0.9977 - val_loss: 0.6153 - val_acc: 0.9983\n",
            "\n",
            "Epoch 00005: ReduceLROnPlateau reducing learning rate to 0.00010000000474974513.\n",
            "\n",
            "Epoch 00005: val_loss did not improve from 0.59614\n",
            "Epoch 6/100\n",
            "39/39 [==============================] - 5s 140ms/step - loss: 0.5313 - acc: 0.9979 - val_loss: 0.6137 - val_acc: 0.9983\n",
            "\n",
            "Epoch 00006: val_loss did not improve from 0.59614\n",
            "Epoch 7/100\n",
            "39/39 [==============================] - 5s 139ms/step - loss: 0.5232 - acc: 0.9980 - val_loss: 0.6040 - val_acc: 0.9982\n",
            "\n",
            "Epoch 00007: ReduceLROnPlateau reducing learning rate to 1.0000000474974514e-05.\n",
            "\n",
            "Epoch 00007: val_loss did not improve from 0.59614\n",
            "Epoch 8/100\n",
            "39/39 [==============================] - 5s 139ms/step - loss: 0.5200 - acc: 0.9980 - val_loss: 0.5967 - val_acc: 0.9982\n",
            "\n",
            "Epoch 00008: val_loss did not improve from 0.59614\n",
            "Epoch 00008: early stopping\n"
          ],
          "name": "stdout"
        },
        {
          "output_type": "display_data",
          "data": {
            "image/png": "[encoded data removed]",
            "text/plain": [
              "<Figure size 360x360 with 1 Axes>"
            ]
          },
          "metadata": {
            "tags": []
          }
        }
      ]
    },
    {
      "cell_type": "markdown",
      "metadata": {
        "id": "HkaYZhBw2wDK",
        "colab_type": "text"
      },
      "source": [
        "# Predicted coordinates PoC"
      ]
    },
    {
      "cell_type": "code",
      "metadata": {
        "id": "hu8Yy0WHI8ho",
        "colab_type": "code",
        "colab": {}
      },
      "source": [
        "# Threshold predictions\n",
        "t = 0.25\n",
        "index = 1\n",
        "preds_train_t = (preds_train > t).astype(np.uint8)\n",
        "preds_test_t = (preds_test > t).astype(np.uint8)\n",
        "\n",
        "im, contours, hierarchy = cv2.findContours(preds_test_t[index], cv2.RETR_EXTERNAL, cv2.CHAIN_APPROX_NONE)"
      ],
      "execution_count": 0,
      "outputs": []
    },
    {
      "cell_type": "code",
      "metadata": {
        "id": "rGNhbi3_Z38S",
        "colab_type": "code",
        "outputId": "41c2f27b-b5d3-443d-cd75-88921fd83070",
        "colab": {
          "base_uri": "https://localhost:8080/",
          "height": 34
        }
      },
      "source": [
        "Ms = []\n",
        "i = 0\n",
        "for contour in contours:\n",
        "    M = cv2.moments(contour)\n",
        "    if M['m00'] != 0:\n",
        "        Mx = round(M['m10'] / M['m00'])\n",
        "        My = round(M['m01'] / M['m00'])\n",
        "        Ms.append((Mx, My))\n",
        "    else:\n",
        "        i += 1\n",
        "        \n",
        "print(i)"
      ],
      "execution_count": 0,
      "outputs": [
        {
          "output_type": "stream",
          "text": [
            "7\n"
          ],
          "name": "stdout"
        }
      ]
    },
    {
      "cell_type": "code",
      "metadata": {
        "id": "Uu1nAYMyqH4a",
        "colab_type": "code",
        "outputId": "3ecd1891-a2c8-45fc-caaa-6857a0162984",
        "colab": {
          "base_uri": "https://localhost:8080/",
          "height": 476
        }
      },
      "source": [
        "Ms"
      ],
      "execution_count": 0,
      "outputs": [
        {
          "output_type": "execute_result",
          "data": {
            "text/plain": [
              "[(240, 246),\n",
              " (246, 239),\n",
              " (221, 236),\n",
              " (236, 222),\n",
              " (208, 214),\n",
              " (214, 208),\n",
              " (201, 195),\n",
              " (189, 196),\n",
              " (196, 189),\n",
              " (146, 153),\n",
              " (153, 147),\n",
              " (126, 136),\n",
              " (136, 126),\n",
              " (99, 104),\n",
              " (73, 81),\n",
              " (80, 74),\n",
              " (57, 72),\n",
              " (72, 57),\n",
              " (49, 57),\n",
              " (57, 49),\n",
              " (36, 48),\n",
              " (48, 36),\n",
              " (25, 36),\n",
              " (36, 25),\n",
              " (18, 24),\n",
              " (24, 18),\n",
              " (16, 6)]"
            ]
          },
          "metadata": {
            "tags": []
          },
          "execution_count": 19
        }
      ]
    },
    {
      "cell_type": "code",
      "metadata": {
        "id": "UhQg_YQtrBk-",
        "colab_type": "code",
        "outputId": "3b205586-9917-45b6-fe21-b9f4e6995c3a",
        "colab": {
          "base_uri": "https://localhost:8080/",
          "height": 286
        }
      },
      "source": [
        "fig, ax = plt.subplots()\n",
        "im = ax.imshow(np.zeros_like(preds_test_t[index]).reshape((256,256)))\n",
        "\n",
        "circles = []\n",
        "for point in Ms:\n",
        "    ax.add_artist(plt.Circle(point, 0.5, color='r'))\n",
        "    \n",
        "plt.imshow(y_test[index].reshape((256,256)))"
      ],
      "execution_count": 0,
      "outputs": [
        {
          "output_type": "execute_result",
          "data": {
            "text/plain": [
              "<matplotlib.image.AxesImage at 0x7f618bf97550>"
            ]
          },
          "metadata": {
            "tags": []
          },
          "execution_count": 20
        },
        {
          "output_type": "display_data",
          "data": {
            "image/png": "[encoded data removed]",
            "text/plain": [
              "<Figure size 432x288 with 1 Axes>"
            ]
          },
          "metadata": {
            "tags": []
          }
        }
      ]
    },
    {
      "cell_type": "code",
      "metadata": {
        "id": "M7X6vXra2-n4",
        "colab_type": "code",
        "outputId": "dee2d05e-d72a-4f9c-b8ad-1479eeeb51cf",
        "colab": {
          "base_uri": "https://localhost:8080/",
          "height": 286
        }
      },
      "source": [
        "plt.imshow(y_test[index].reshape((256,256)))"
      ],
      "execution_count": 0,
      "outputs": [
        {
          "output_type": "execute_result",
          "data": {
            "text/plain": [
              "<matplotlib.image.AxesImage at 0x7f618b717828>"
            ]
          },
          "metadata": {
            "tags": []
          },
          "execution_count": 21
        },
        {
          "output_type": "display_data",
          "data": {
            "image/png": "[encoded data removed]",
            "text/plain": [
              "<Figure size 432x288 with 1 Axes>"
            ]
          },
          "metadata": {
            "tags": []
          }
        }
      ]
    },
    {
      "cell_type": "code",
      "metadata": {
        "id": "rGbWiwZJdWAm",
        "colab_type": "code",
        "outputId": "dbbd2395-3da7-4868-9417-eed1bb13736d",
        "colab": {
          "base_uri": "https://localhost:8080/",
          "height": 538
        }
      },
      "source": [
        "im1 = preds_test_t[index].copy()\n",
        "plt.imshow(im1.reshape((256,256)))\n",
        "plt.figure()\n",
        "\n",
        "\n",
        "# cv2.drawContours(im1, contours, 0, (0, 255, 0), 2)\n",
        "# plt.imshow(im1.reshape((256,256)))\n",
        "# plt.figure()\n",
        "\n",
        "canvas = np.zeros_like(im1.reshape((256,256)))\n",
        "cv2.drawContours(canvas, contours, -1, (1, 0, 0), 2)\n",
        "plt.imshow(canvas.reshape((256,256)))"
      ],
      "execution_count": 0,
      "outputs": [
        {
          "output_type": "execute_result",
          "data": {
            "text/plain": [
              "<matplotlib.image.AxesImage at 0x7f618b6ab7b8>"
            ]
          },
          "metadata": {
            "tags": []
          },
          "execution_count": 22
        },
        {
          "output_type": "display_data",
          "data": {
            "image/png": "[encoded data removed]",
            "text/plain": [
              "<Figure size 432x288 with 1 Axes>"
            ]
          },
          "metadata": {
            "tags": []
          }
        },
        {
          "output_type": "display_data",
          "data": {
            "image/png": "[encoded data removed]",
            "text/plain": [
              "<Figure size 432x288 with 1 Axes>"
            ]
          },
          "metadata": {
            "tags": []
          }
        }
      ]
    },
    {
      "cell_type": "markdown",
      "metadata": {
        "id": "bXD46G03PZ1_",
        "colab_type": "text"
      },
      "source": [
        "# Models comparison"
      ]
    },
    {
      "cell_type": "code",
      "metadata": {
        "id": "Bx8AkgO1PfyS",
        "colab_type": "code",
        "colab": {}
      },
      "source": [
        "def unet(weight_path, loss):\n",
        "    input_img = Input((IMAGE_SIZE, IMAGE_SIZE, 1), name='img')\n",
        "    model = get_unet(input_img, n_filters=64, dropout=0.05, batchnorm=True)\n",
        "\n",
        "    model.compile(optimizer=Adam(), loss=loss, metrics=['accuracy'])\n",
        "\n",
        "    model.load_weights(weight_path)\n",
        "    \n",
        "    return model"
      ],
      "execution_count": 0,
      "outputs": []
    },
    {
      "cell_type": "code",
      "metadata": {
        "id": "g-1JvRnyr7nS",
        "colab_type": "code",
        "colab": {}
      },
      "source": [
        "def jaccard(pred, true):\n",
        "    intersection = np.logical_and(pred, true)\n",
        "    union = np.logical_or(pred, true)\n",
        "    iou_score = np.sum(intersection) / np.sum(union)\n",
        "    return iou_score"
      ],
      "execution_count": 0,
      "outputs": []
    },
    {
      "cell_type": "markdown",
      "metadata": {
        "id": "gMWV6Zz_YlOx",
        "colab_type": "text"
      },
      "source": [
        "### Before transfer learning"
      ]
    },
    {
      "cell_type": "code",
      "metadata": {
        "id": "_mY5lNgbPjWv",
        "colab_type": "code",
        "outputId": "de0c2a99-0bcf-4af7-e726-738fb4a885de",
        "colab": {
          "base_uri": "https://localhost:8080/",
          "height": 102
        }
      },
      "source": [
        "model_bce = unet(ROOT_PATH + '/dicty/weights/unet_bce_corner_peak_half_step.h5', binary_crossentropy)\n",
        "\n",
        "score, acc = model_bce.evaluate(X_test, y_test, verbose=0)\n",
        "\n",
        "print('Test score:', score)\n",
        "print('Test accuracy:', acc)\n",
        "\n",
        "preds_train = model_bce.predict(X_train, verbose=1)\n",
        "preds_test = model_bce.predict(X_test, verbose=1)\n",
        "\n",
        "# Threshold predictions\n",
        "t = 0.05\n",
        "preds_train_t = (preds_train > t).astype(np.uint8)\n",
        "preds_test_t = (preds_test > t).astype(np.uint8)\n",
        "\n",
        "jaccard(preds_test_t, y_test)"
      ],
      "execution_count": 37,
      "outputs": [
        {
          "output_type": "stream",
          "text": [
            "Test score: 0.006743737496435642\n",
            "Test accuracy: 0.9984697699546814\n",
            "39/39 [==============================] - 3s 72ms/step\n",
            "14/14 [==============================] - 0s 22ms/step\n"
          ],
          "name": "stdout"
        },
        {
          "output_type": "execute_result",
          "data": {
            "text/plain": [
              "0.2617056856187291"
            ]
          },
          "metadata": {
            "tags": []
          },
          "execution_count": 37
        }
      ]
    },
    {
      "cell_type": "code",
      "metadata": {
        "id": "ULVucwXUYJeC",
        "colab_type": "code",
        "outputId": "b109c771-ed7c-4c96-8b20-3a453bb96697",
        "colab": {
          "base_uri": "https://localhost:8080/",
          "height": 102
        }
      },
      "source": [
        "model_bcd = unet(ROOT_PATH + '/dicty/weights/unet_bce_dice_loss_corner_peak_half_step.h5', bce_dice_loss)\n",
        "\n",
        "score, acc = model_bcd.evaluate(X_test, y_test, verbose=0)\n",
        "\n",
        "print('Test score:', score)\n",
        "print('Test accuracy:', acc)\n",
        "\n",
        "preds_train = model_bcd.predict(X_train, verbose=1)\n",
        "preds_test = model_bcd.predict(X_test, verbose=1)\n",
        "\n",
        "# Threshold predictions\n",
        "t = 0.05\n",
        "preds_train_t = (preds_train > t).astype(np.uint8)\n",
        "preds_test_t = (preds_test > t).astype(np.uint8)\n",
        "\n",
        "jaccard(preds_test_t, y_test)"
      ],
      "execution_count": 39,
      "outputs": [
        {
          "output_type": "stream",
          "text": [
            "Test score: 0.4687812626361847\n",
            "Test accuracy: 0.9986321330070496\n",
            "39/39 [==============================] - 3s 76ms/step\n",
            "14/14 [==============================] - 0s 22ms/step\n"
          ],
          "name": "stdout"
        },
        {
          "output_type": "execute_result",
          "data": {
            "text/plain": [
              "0.36210278540604157"
            ]
          },
          "metadata": {
            "tags": []
          },
          "execution_count": 39
        }
      ]
    },
    {
      "cell_type": "code",
      "metadata": {
        "id": "S49KjeJ4YaB6",
        "colab_type": "code",
        "outputId": "a1f27cd6-fd85-4029-d28e-ff433bf26d73",
        "colab": {
          "base_uri": "https://localhost:8080/",
          "height": 102
        }
      },
      "source": [
        "model_dice = unet(ROOT_PATH + '/dicty/weights/unet_dice_corner_peak_half_step.h5', dice_coef_loss)\n",
        "\n",
        "score, acc = model_dice.evaluate(X_test, y_test, verbose=0)\n",
        "\n",
        "print('Test score:', score)\n",
        "print('Test accuracy:', acc)\n",
        "\n",
        "preds_train = model_dice.predict(X_train, verbose=1)\n",
        "preds_test = model_dice.predict(X_test, verbose=1)\n",
        "\n",
        "# Threshold predictions\n",
        "t = 0.05\n",
        "preds_train_t = (preds_train > t).astype(np.uint8)\n",
        "preds_test_t = (preds_test > t).astype(np.uint8)\n",
        "\n",
        "jaccard(preds_test_t, y_test)"
      ],
      "execution_count": 40,
      "outputs": [
        {
          "output_type": "stream",
          "text": [
            "Test score: 0.504013180732727\n",
            "Test accuracy: 0.9986114501953125\n",
            "39/39 [==============================] - 3s 79ms/step\n",
            "14/14 [==============================] - 0s 22ms/step\n"
          ],
          "name": "stdout"
        },
        {
          "output_type": "execute_result",
          "data": {
            "text/plain": [
              "0.33738317757009345"
            ]
          },
          "metadata": {
            "tags": []
          },
          "execution_count": 40
        }
      ]
    },
    {
      "cell_type": "markdown",
      "metadata": {
        "id": "h9QAyV0fYpo8",
        "colab_type": "text"
      },
      "source": [
        "### After transfer learning"
      ]
    },
    {
      "cell_type": "code",
      "metadata": {
        "id": "PyYcro_vYsh9",
        "colab_type": "code",
        "outputId": "dbc3ecfa-7acf-48a4-8a53-aa0bb0dfb83e",
        "colab": {
          "base_uri": "https://localhost:8080/",
          "height": 102
        }
      },
      "source": [
        "model_transfer_bce = unet(ROOT_PATH + '/dicty/weights/unet_transfer_bce_corner_peak_half_step.h5', binary_crossentropy)\n",
        "\n",
        "score, acc = model_transfer_bce.evaluate(X_test, y_test, verbose=0)\n",
        "\n",
        "print('Test score:', score)\n",
        "print('Test accuracy:', acc)\n",
        "\n",
        "preds_train = model_transfer_bce.predict(X_train, verbose=1)\n",
        "preds_test = model_transfer_bce.predict(X_test, verbose=1)\n",
        "\n",
        "# Threshold predictions\n",
        "t = 0.05\n",
        "preds_train_t = (preds_train > t).astype(np.uint8)\n",
        "preds_test_t = (preds_test > t).astype(np.uint8)\n",
        "\n",
        "jaccard(preds_test_t, y_test)"
      ],
      "execution_count": 38,
      "outputs": [
        {
          "output_type": "stream",
          "text": [
            "Test score: 0.0036005363799631596\n",
            "Test accuracy: 0.9988141655921936\n",
            "39/39 [==============================] - 3s 72ms/step\n",
            "14/14 [==============================] - 0s 22ms/step\n"
          ],
          "name": "stdout"
        },
        {
          "output_type": "execute_result",
          "data": {
            "text/plain": [
              "0.259851384823238"
            ]
          },
          "metadata": {
            "tags": []
          },
          "execution_count": 38
        }
      ]
    },
    {
      "cell_type": "code",
      "metadata": {
        "id": "iGdbGBagbFbn",
        "colab_type": "code",
        "outputId": "c2c57e4f-f89e-4943-b015-9c798eb37ea2",
        "colab": {
          "base_uri": "https://localhost:8080/",
          "height": 102
        }
      },
      "source": [
        "model_transfer_dice = unet(ROOT_PATH + '/dicty/weights/unet_transfer_dice_corner_peak_half_step.h5', dice_coef_loss)\n",
        "\n",
        "score, acc = model_transfer_dice.evaluate(X_test, y_test, verbose=0)\n",
        "\n",
        "print('Test score:', score)\n",
        "print('Test accuracy:', acc)\n",
        "\n",
        "preds_train = model_transfer_dice.predict(X_train, verbose=1)\n",
        "preds_test = model_transfer_dice.predict(X_test, verbose=1)\n",
        "\n",
        "# Threshold predictions\n",
        "t = 0.05\n",
        "preds_train_t = (preds_train > t).astype(np.uint8)\n",
        "preds_test_t = (preds_test > t).astype(np.uint8)\n",
        "\n",
        "jaccard(preds_test_t, y_test)"
      ],
      "execution_count": 41,
      "outputs": [
        {
          "output_type": "stream",
          "text": [
            "Test score: 0.5325521230697632\n",
            "Test accuracy: 0.9983760118484497\n",
            "39/39 [==============================] - 3s 83ms/step\n",
            "14/14 [==============================] - 0s 22ms/step\n"
          ],
          "name": "stdout"
        },
        {
          "output_type": "execute_result",
          "data": {
            "text/plain": [
              "0.3076301978199435"
            ]
          },
          "metadata": {
            "tags": []
          },
          "execution_count": 41
        }
      ]
    },
    {
      "cell_type": "code",
      "metadata": {
        "id": "IhLYWZmgbFxg",
        "colab_type": "code",
        "outputId": "0b49bcbe-5436-4945-bfd5-8c087aa4fecf",
        "colab": {
          "base_uri": "https://localhost:8080/",
          "height": 102
        }
      },
      "source": [
        "model_transfer_bcd = unet(ROOT_PATH + '/dicty/weights/unet_transfer_bce_dice_loss_corner_peak_half_step.h5', bce_dice_loss)\n",
        "\n",
        "score, acc = model_transfer_bcd.evaluate(X_test, y_test, verbose=0)\n",
        "\n",
        "print('Test score:', score)\n",
        "print('Test accuracy:', acc)\n",
        "\n",
        "preds_train = model_transfer_bcd.predict(X_train, verbose=1)\n",
        "preds_test = model_transfer_bcd.predict(X_test, verbose=1)\n",
        "\n",
        "# Threshold predictions\n",
        "t = 0.05\n",
        "preds_train_t = (preds_train > t).astype(np.uint8)\n",
        "preds_test_t = (preds_test > t).astype(np.uint8)\n",
        "\n",
        "jaccard(preds_test_t, y_test)"
      ],
      "execution_count": 34,
      "outputs": [
        {
          "output_type": "stream",
          "text": [
            "Test score: 0.6010792851448059\n",
            "Test accuracy: 0.998046875\n",
            "39/39 [==============================] - 2s 64ms/step\n",
            "14/14 [==============================] - 0s 23ms/step\n"
          ],
          "name": "stdout"
        },
        {
          "output_type": "execute_result",
          "data": {
            "text/plain": [
              "0.25365521931315876"
            ]
          },
          "metadata": {
            "tags": []
          },
          "execution_count": 34
        }
      ]
    },
    {
      "cell_type": "markdown",
      "metadata": {
        "id": "_alLyHRnyagk",
        "colab_type": "text"
      },
      "source": [
        "# Predict for full chromosome"
      ]
    },
    {
      "cell_type": "markdown",
      "metadata": {
        "id": "T0YIVOkjPntO",
        "colab_type": "text"
      },
      "source": [
        "#### utils"
      ]
    },
    {
      "cell_type": "code",
      "metadata": {
        "id": "ztCeBUiPyYpi",
        "colab_type": "code",
        "colab": {}
      },
      "source": [
        "def predict_chromosome(model, x):\n",
        "    '''\n",
        "        predict mask шер loops for the whole chromosome\n",
        "        input model and array\n",
        "        return array with predicted probabilities\n",
        "    '''\n",
        "    x[np.isnan(x)] = 0\n",
        "    x[x == -np.inf] = 0\n",
        "    res = np.zeros_like(x)\n",
        "\n",
        "    i = IMAGE_SIZE\n",
        "    step = IMAGE_SIZE\n",
        "\n",
        "    while i < x.shape[0]:\n",
        "        start, end = i - step, i\n",
        "\n",
        "        area = x[start:end, start:end]\n",
        "        area = np.reshape(area, (1,IMAGE_SIZE,IMAGE_SIZE,1))\n",
        "\n",
        "        pred = model.predict(area).reshape((IMAGE_SIZE, IMAGE_SIZE))\n",
        "        pred = (pred + np.transpose(pred)) / 2\n",
        "        res[start:end, start:end] = pred\n",
        "        i += int(step / 2)\n",
        "\n",
        "    i -= step\n",
        "\n",
        "    # get the last part of an array\n",
        "    if i < x.shape[0]:\n",
        "        start, end = x.shape[0] - step, x.shape[0]\n",
        "        \n",
        "        area = x[start:end, start:end]\n",
        "        area = np.reshape(area, (1,IMAGE_SIZE,IMAGE_SIZE,1))\n",
        "        \n",
        "        pred = model.predict(area).reshape((IMAGE_SIZE, IMAGE_SIZE))\n",
        "        pred = (pred + np.transpose(pred)) / 2\n",
        "        \n",
        "        res[start:end, start:end] = pred\n",
        "        \n",
        "    return res"
      ],
      "execution_count": 0,
      "outputs": []
    },
    {
      "cell_type": "code",
      "metadata": {
        "id": "iLTyJZq7-bkP",
        "colab_type": "code",
        "colab": {}
      },
      "source": [
        "def get_coordinates(pred, threshold = 0.5):\n",
        "    '''\n",
        "        return coordinates of predicted areas and number of small areas\n",
        "        for which it's impossible to find center\n",
        "    '''\n",
        "    pred_t = (pred > t).astype(np.uint8)\n",
        "    pred_t = (pred > t).astype(np.uint8)\n",
        "\n",
        "    im, contours, hierarchy = cv2.findContours(pred_t, cv2.RETR_EXTERNAL, cv2.CHAIN_APPROX_NONE)\n",
        "    \n",
        "    upper = []\n",
        "    diagonal = []\n",
        "    i = 0\n",
        "    for contour in contours:\n",
        "        M = cv2.moments(contour)\n",
        "        if M['m00'] != 0:\n",
        "            Mx = round(M['m10'] / M['m00'])\n",
        "            My = round(M['m01'] / M['m00'])\n",
        "            if (Mx == My):\n",
        "                diagonal.append((Mx, My))\n",
        "            elif Mx < My:\n",
        "                upper.append((Mx, My))\n",
        "        else:\n",
        "            i += 1\n",
        "            \n",
        "    return upper, diagonal, i"
      ],
      "execution_count": 0,
      "outputs": []
    },
    {
      "cell_type": "code",
      "metadata": {
        "id": "ipy8j9H-QNT4",
        "colab_type": "code",
        "colab": {}
      },
      "source": [
        "loops_info = pd.read_excel(ROOT_PATH + '/dicty_loop_positions_Chr1_Chr5_Chr6.xlsx')\n",
        "loops_info['x'] = loops_info['x'].apply(lambda x: int(x - 1))\n",
        "loops_info['y'] = loops_info['y'].apply(lambda x: int(x - 1))\n",
        "chr6_real_coordinates = loops_info[loops_info['chr'] == 6]"
      ],
      "execution_count": 0,
      "outputs": []
    },
    {
      "cell_type": "code",
      "metadata": {
        "id": "UgnhjcjYYDjj",
        "colab_type": "code",
        "colab": {}
      },
      "source": [
        "def loops_prediction_stats(real, pred, near_threshold = 3):\n",
        "    count_eq = 0\n",
        "    count_near = 0\n",
        "    count_none = 0\n",
        "    for coordinate in pred:\n",
        "        if (len(real[(real['x'] == coordinate[0]) & \n",
        "                     (real['y'] == coordinate[1])])):\n",
        "            count_eq = count_eq + 1\n",
        "            #print(coordinate)\n",
        "        elif (len(real[((real['x'] >= coordinate[0] - near_threshold) &(real['x'] <= coordinate[0] + near_threshold)) & \n",
        "                       ((real['y'] >= coordinate[1] - near_threshold) & (real['y'] <= coordinate[1] + near_threshold))])):\n",
        "            count_near = count_near + 1\n",
        "            #print('Near', coordinate)\n",
        "        else:\n",
        "            count_none = count_none + 1\n",
        "            \n",
        "            \n",
        "    return count_eq, count_near, count_none"
      ],
      "execution_count": 0,
      "outputs": []
    },
    {
      "cell_type": "markdown",
      "metadata": {
        "id": "YK0_sgwlPqS1",
        "colab_type": "text"
      },
      "source": [
        "#### models comparison"
      ]
    },
    {
      "cell_type": "code",
      "metadata": {
        "id": "NlP9pDuNzDUZ",
        "colab_type": "code",
        "colab": {
          "base_uri": "https://localhost:8080/",
          "height": 119
        },
        "outputId": "6c785c1a-9033-4939-c44d-020bc2d550e1"
      },
      "source": [
        "chr6 = np.load(ROOT_PATH + '/arrs/2kb_chr6_norm.npy')\n",
        "pred = predict_chromosome(model_bce, chr6)\n",
        "c, d, i = get_coordinates(pred)\n",
        "\n",
        "print('On diagonal:\\t\\t ',  len(d))\n",
        "print('Above diagonal:\\t\\t ', len(c))\n",
        "\n",
        "count_eq, count_near, count_none = loops_prediction_stats(chr6_real_coordinates, c)\n",
        "\n",
        "print('Equal:\\t\\t\\t ', count_eq)\n",
        "print('Near:\\t\\t\\t ', count_near)\n",
        "print('Not found:\\t\\t ', count_none)\n",
        "\n",
        "print('Total:\\t\\t\\t ', len(chr6_real_coordinates))"
      ],
      "execution_count": 234,
      "outputs": [
        {
          "output_type": "stream",
          "text": [
            "On diagonal:\t\t  0\n",
            "Above diagonal:\t\t  26\n",
            "Equal:\t\t\t  3\n",
            "Near:\t\t\t  20\n",
            "Not found:\t\t  3\n",
            "Total:\t\t\t  93\n"
          ],
          "name": "stdout"
        }
      ]
    },
    {
      "cell_type": "code",
      "metadata": {
        "id": "DkdpYNG8Py75",
        "colab_type": "code",
        "colab": {
          "base_uri": "https://localhost:8080/",
          "height": 119
        },
        "outputId": "273bd013-52f3-40a1-8440-7377887b0df3"
      },
      "source": [
        "chr6 = np.load(ROOT_PATH + '/arrs/2kb_chr6_norm.npy')\n",
        "pred = predict_chromosome(model_dice, chr6)\n",
        "c, d, i = get_coordinates(pred)\n",
        "\n",
        "print('On diagonal:\\t\\t ',  len(d))\n",
        "print('Above diagonal:\\t\\t ', len(c))\n",
        "\n",
        "count_eq, count_near, count_none = loops_prediction_stats(chr6_real_coordinates, c)\n",
        "\n",
        "print('Equal:\\t\\t\\t ', count_eq)\n",
        "print('Near:\\t\\t\\t ', count_near)\n",
        "print('Not found:\\t\\t ', count_none)\n",
        "\n",
        "print('Total:\\t\\t\\t ', len(chr6_real_coordinates))"
      ],
      "execution_count": 235,
      "outputs": [
        {
          "output_type": "stream",
          "text": [
            "On diagonal:\t\t  0\n",
            "Above diagonal:\t\t  78\n",
            "Equal:\t\t\t  15\n",
            "Near:\t\t\t  50\n",
            "Not found:\t\t  13\n",
            "Total:\t\t\t  93\n"
          ],
          "name": "stdout"
        }
      ]
    },
    {
      "cell_type": "code",
      "metadata": {
        "id": "33BdxFndP2MZ",
        "colab_type": "code",
        "colab": {
          "base_uri": "https://localhost:8080/",
          "height": 119
        },
        "outputId": "126c329f-7cf8-4a71-84f1-561ea84e85d4"
      },
      "source": [
        "chr6 = np.load(ROOT_PATH + '/arrs/2kb_chr6_norm.npy')\n",
        "pred = predict_chromosome(model_bcd, chr6)\n",
        "c, d, i = get_coordinates(pred)\n",
        "\n",
        "print('On diagonal:\\t\\t ',  len(d))\n",
        "print('Above diagonal:\\t\\t ', len(c))\n",
        "\n",
        "count_eq, count_near, count_none = loops_prediction_stats(chr6_real_coordinates, c)\n",
        "\n",
        "print('Equal:\\t\\t\\t ', count_eq)\n",
        "print('Near:\\t\\t\\t ', count_near)\n",
        "print('Not found:\\t\\t ', count_none)\n",
        "\n",
        "print('Total:\\t\\t\\t ', len(chr6_real_coordinates))"
      ],
      "execution_count": 236,
      "outputs": [
        {
          "output_type": "stream",
          "text": [
            "On diagonal:\t\t  1\n",
            "Above diagonal:\t\t  97\n",
            "Equal:\t\t\t  12\n",
            "Near:\t\t\t  63\n",
            "Not found:\t\t  22\n",
            "Total:\t\t\t  93\n"
          ],
          "name": "stdout"
        }
      ]
    },
    {
      "cell_type": "code",
      "metadata": {
        "id": "9ZEz7WK8P4BJ",
        "colab_type": "code",
        "colab": {
          "base_uri": "https://localhost:8080/",
          "height": 119
        },
        "outputId": "b45dea7f-5c2d-48ed-9766-34d504d3403e"
      },
      "source": [
        "chr6 = np.load(ROOT_PATH + '/arrs/2kb_chr6_norm.npy')\n",
        "pred = predict_chromosome(model_transfer_bce, chr6)\n",
        "c, d, i = get_coordinates(pred)\n",
        "\n",
        "print('On diagonal:\\t\\t ',  len(d))\n",
        "print('Above diagonal:\\t\\t ', len(c))\n",
        "\n",
        "count_eq, count_near, count_none = loops_prediction_stats(chr6_real_coordinates, c)\n",
        "\n",
        "print('Equal:\\t\\t\\t ', count_eq)\n",
        "print('Near:\\t\\t\\t ', count_near)\n",
        "print('Not found:\\t\\t ', count_none)\n",
        "\n",
        "print('Total:\\t\\t\\t ', len(chr6_real_coordinates))"
      ],
      "execution_count": 237,
      "outputs": [
        {
          "output_type": "stream",
          "text": [
            "On diagonal:\t\t  1\n",
            "Above diagonal:\t\t  117\n",
            "Equal:\t\t\t  12\n",
            "Near:\t\t\t  69\n",
            "Not found:\t\t  36\n",
            "Total:\t\t\t  93\n"
          ],
          "name": "stdout"
        }
      ]
    },
    {
      "cell_type": "code",
      "metadata": {
        "id": "YpIbkJjkP52U",
        "colab_type": "code",
        "colab": {
          "base_uri": "https://localhost:8080/",
          "height": 119
        },
        "outputId": "14976ab4-d74b-4678-dec6-540b37cb4809"
      },
      "source": [
        "chr6 = np.load(ROOT_PATH + '/arrs/2kb_chr6_norm.npy')\n",
        "pred = predict_chromosome(model_transfer_dice, chr6)\n",
        "c, d, i = get_coordinates(pred)\n",
        "\n",
        "print('On diagonal:\\t\\t ',  len(d))\n",
        "print('Above diagonal:\\t\\t ', len(c))\n",
        "\n",
        "count_eq, count_near, count_none = loops_prediction_stats(chr6_real_coordinates, c)\n",
        "\n",
        "print('Equal:\\t\\t\\t ', count_eq)\n",
        "print('Near:\\t\\t\\t ', count_near)\n",
        "print('Not found:\\t\\t ', count_none)\n",
        "\n",
        "print('Total:\\t\\t\\t ', len(chr6_real_coordinates))"
      ],
      "execution_count": 238,
      "outputs": [
        {
          "output_type": "stream",
          "text": [
            "On diagonal:\t\t  29\n",
            "Above diagonal:\t\t  81\n",
            "Equal:\t\t\t  12\n",
            "Near:\t\t\t  49\n",
            "Not found:\t\t  20\n",
            "Total:\t\t\t  93\n"
          ],
          "name": "stdout"
        }
      ]
    },
    {
      "cell_type": "code",
      "metadata": {
        "id": "HnjSEGGhP7cj",
        "colab_type": "code",
        "colab": {
          "base_uri": "https://localhost:8080/",
          "height": 119
        },
        "outputId": "16cda2d2-b81d-41fc-a9a0-53ca31dfdae7"
      },
      "source": [
        "chr6 = np.load(ROOT_PATH + '/arrs/2kb_chr6_norm.npy')\n",
        "pred = predict_chromosome(model_transfer_bcd, chr6)\n",
        "c, d, i = get_coordinates(pred)\n",
        "\n",
        "print('On diagonal:\\t\\t ',  len(d))\n",
        "print('Above diagonal:\\t\\t ', len(c))\n",
        "\n",
        "count_eq, count_near, count_none = loops_prediction_stats(chr6_real_coordinates, c)\n",
        "\n",
        "print('Equal:\\t\\t\\t ', count_eq)\n",
        "print('Near:\\t\\t\\t ', count_near)\n",
        "print('Not found:\\t\\t ', count_none)\n",
        "\n",
        "print('Total:\\t\\t\\t ', len(chr6_real_coordinates))"
      ],
      "execution_count": 239,
      "outputs": [
        {
          "output_type": "stream",
          "text": [
            "On diagonal:\t\t  57\n",
            "Above diagonal:\t\t  85\n",
            "Equal:\t\t\t  12\n",
            "Near:\t\t\t  50\n",
            "Not found:\t\t  23\n",
            "Total:\t\t\t  93\n"
          ],
          "name": "stdout"
        }
      ]
    }
  ]
}
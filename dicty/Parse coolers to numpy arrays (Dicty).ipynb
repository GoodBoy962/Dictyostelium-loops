{
 "cells": [
  {
   "cell_type": "code",
   "execution_count": 1,
   "metadata": {},
   "outputs": [],
   "source": [
    "import cooler"
   ]
  },
  {
   "cell_type": "code",
   "execution_count": 2,
   "metadata": {},
   "outputs": [],
   "source": [
    "import sys\n",
    "import os\n",
    "sys.path.insert(0, os.getcwd().rsplit('/',1)[0])\n",
    "\n",
    "import loops_utils"
   ]
  },
  {
   "cell_type": "code",
   "execution_count": 3,
   "metadata": {},
   "outputs": [
    {
     "name": "stdout",
     "output_type": "stream",
     "text": [
      "File ‘multires/Dicty_0A.1000.cool.multires’ already there; not retrieving.\r\n",
      "\r\n"
     ]
    }
   ],
   "source": [
    "# Download a multiresoltion Dictyostelium file\n",
    "!wget -P multires -nc http://makarich.fbb.msu.ru/agalicina/Lab_open/DICTY/COOL/Dicty_0A.1000.cool.multires"
   ]
  },
  {
   "cell_type": "code",
   "execution_count": 4,
   "metadata": {},
   "outputs": [],
   "source": [
    "resolution = 2000\n",
    "filepath = 'multires/Dicty_0A.1000.cool.multires::resolutions/' + str(resolution)\n",
    "c = cooler.Cooler(filepath)"
   ]
  },
  {
   "cell_type": "code",
   "execution_count": 5,
   "metadata": {},
   "outputs": [
    {
     "name": "stderr",
     "output_type": "stream",
     "text": [
      "/Users/alex/Desktop/ws/hse/diploma/loops/loops_utils.py:40: RuntimeWarning: divide by zero encountered in log\n",
      "  np.save(path + resolution + '_' + chr + '_log' + is_not_balanced_arr, np.log(mat))\n",
      "/Users/alex/Desktop/ws/hse/diploma/loops/loops_utils.py:42: RuntimeWarning: divide by zero encountered in log\n",
      "  np.save(path + resolution + '_' + chr + '_norm_log' + is_not_balanced_arr, np.log(mat_norm))\n"
     ]
    }
   ],
   "source": [
    "for chr in ['chr1', 'chr2', 'chr3', 'chr4', 'chr5', 'chr6']:\n",
    "    loops_utils.generate_and_save_arrays_for_chromosome(os.getcwd() + '/arrs/', c, chr)"
   ]
  },
  {
   "cell_type": "code",
   "execution_count": 6,
   "metadata": {},
   "outputs": [],
   "source": [
    "for chr in ['chr1', 'chr2', 'chr3', 'chr4', 'chr5', 'chr6']:\n",
    "    loops_utils.generate_and_save_arrays_for_chromosome(os.getcwd() + '/arrs/', c, chr, is_balanced=False)"
   ]
  }
 ],
 "metadata": {
  "kernelspec": {
   "display_name": "Python 3",
   "language": "python",
   "name": "python3"
  },
  "language_info": {
   "codemirror_mode": {
    "name": "ipython",
    "version": 3
   },
   "file_extension": ".py",
   "mimetype": "text/x-python",
   "name": "python",
   "nbconvert_exporter": "python",
   "pygments_lexer": "ipython3",
   "version": "3.7.2"
  }
 },
 "nbformat": 4,
 "nbformat_minor": 2
}

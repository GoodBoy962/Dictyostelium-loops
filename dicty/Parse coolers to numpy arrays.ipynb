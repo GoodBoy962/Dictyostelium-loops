{
 "cells": [
  {
   "cell_type": "code",
   "execution_count": 1,
   "metadata": {},
   "outputs": [],
   "source": [
    "import numpy as np\n",
    "import cooler\n",
    "\n",
    "from mirnylib import numutils"
   ]
  },
  {
   "cell_type": "code",
   "execution_count": 2,
   "metadata": {},
   "outputs": [
    {
     "name": "stdout",
     "output_type": "stream",
     "text": [
      "File ‘multires/Dicty_0A.1000.cool.multires’ already there; not retrieving.\r\n",
      "\r\n"
     ]
    }
   ],
   "source": [
    "# Download a multiresoltion Dictyostelium file\n",
    "!wget -P multires -nc http://makarich.fbb.msu.ru/agalicina/Lab_open/DICTY/COOL/Dicty_0A.1000.cool.multires"
   ]
  },
  {
   "cell_type": "code",
   "execution_count": 3,
   "metadata": {},
   "outputs": [],
   "source": [
    "resolution = 2000\n",
    "filepath = 'multires/Dicty_0A.1000.cool.multires::resolutions/' + str(resolution)\n",
    "c = cooler.Cooler(filepath)"
   ]
  },
  {
   "cell_type": "code",
   "execution_count": 4,
   "metadata": {},
   "outputs": [],
   "source": [
    "def generate_numpy_array_from_cooler_for_concrete_chromosome(cooler, ch):\n",
    "    '''\n",
    "        Parse cooler to numpy array for concrete chromosome\n",
    "        Get bins corresponding to concrete chromosome ch and translate then to array\n",
    "    '''\n",
    "    bins = cooler.bins()[:]\n",
    "\n",
    "    bins_num = bins[bins.chrom == chr].shape[0]\n",
    "    indx = bins[bins.chrom == chr].index.values\n",
    "    start = indx[0]\n",
    "    end = indx[-1]\n",
    "    mat = cooler.matrix(balance=True, sparse=True)[start:end, start:end]\n",
    "    return mat.toarray()"
   ]
  },
  {
   "cell_type": "code",
   "execution_count": 5,
   "metadata": {},
   "outputs": [],
   "source": [
    "def generate_and_save_arrays_for_chromosome(cooler, chr):\n",
    "    mat = generate_numpy_array_from_cooler_for_concrete_chromosome(c, chr)\n",
    "    mat_norm = numutils.observedOverExpected(mat)\n",
    "    \n",
    "    resolution = str(int(c.info['bin-size']/10**3)) + 'kb'\n",
    "    \n",
    "    np.save('arrs/' + resolution + '_' + chr, mat)\n",
    "    np.save('arrs/' + resolution + '_' + chr + '_log', np.log(mat))\n",
    "    np.save('arrs/' + resolution + '_' + chr + '_norm', mat_norm)\n",
    "    np.save('arrs/' + resolution + '_' + chr + '_norm_log', np.log(mat_norm))"
   ]
  },
  {
   "cell_type": "code",
   "execution_count": 6,
   "metadata": {},
   "outputs": [
    {
     "name": "stderr",
     "output_type": "stream",
     "text": [
      "/anaconda3/envs/loops/lib/python3.7/site-packages/ipykernel_launcher.py:8: RuntimeWarning: divide by zero encountered in log\n",
      "  \n",
      "/anaconda3/envs/loops/lib/python3.7/site-packages/ipykernel_launcher.py:10: RuntimeWarning: divide by zero encountered in log\n",
      "  # Remove the CWD from sys.path while we load stuff.\n"
     ]
    }
   ],
   "source": [
    "for chr in ['chr1', 'chr2', 'chr3', 'chr4', 'chr5', 'chr6']:\n",
    "    generate_and_save_arrays_for_chromosome(c, chr)"
   ]
  }
 ],
 "metadata": {
  "kernelspec": {
   "display_name": "Python 3",
   "language": "python",
   "name": "python3"
  },
  "language_info": {
   "codemirror_mode": {
    "name": "ipython",
    "version": 3
   },
   "file_extension": ".py",
   "mimetype": "text/x-python",
   "name": "python",
   "nbconvert_exporter": "python",
   "pygments_lexer": "ipython3",
   "version": "3.7.2"
  }
 },
 "nbformat": 4,
 "nbformat_minor": 2
}

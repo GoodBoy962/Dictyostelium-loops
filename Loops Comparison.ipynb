{
 "cells": [
  {
   "cell_type": "code",
   "execution_count": 1,
   "metadata": {},
   "outputs": [],
   "source": [
    "# Import the packages we will use\n",
    "import matplotlib\n",
    "import matplotlib.pyplot as plt\n",
    "import numpy as np\n",
    "import pandas"
   ]
  },
  {
   "cell_type": "code",
   "execution_count": 2,
   "metadata": {},
   "outputs": [],
   "source": [
    "# The following directive activates inline plotting\n",
    "%matplotlib inline"
   ]
  },
  {
   "cell_type": "markdown",
   "metadata": {},
   "source": [
    "## Loops comparison"
   ]
  },
  {
   "cell_type": "markdown",
   "metadata": {},
   "source": [
    "Dicty loops"
   ]
  },
  {
   "cell_type": "code",
   "execution_count": 3,
   "metadata": {},
   "outputs": [
    {
     "data": {
      "text/plain": [
       "(array([22., 54., 71., 48., 23., 14.,  7.,  1.,  0.,  1.]),\n",
       " array([20000., 27600., 35200., 42800., 50400., 58000., 65600., 73200.,\n",
       "        80800., 88400., 96000.]),\n",
       " <a list of 10 Patch objects>)"
      ]
     },
     "execution_count": 3,
     "metadata": {},
     "output_type": "execute_result"
    },
    {
     "data": {
      "image/png": "[encoded data removed]",
      "text/plain": [
       "<Figure size 432x288 with 1 Axes>"
      ]
     },
     "metadata": {
      "needs_background": "light"
     },
     "output_type": "display_data"
    }
   ],
   "source": [
    "loops_dicty = pandas.read_excel('dicty/dicty_loop_positions_Chr1_Chr6.xlsx')\n",
    "loops_dicty_sizes = loops_dicty['Size (Kb)'].values * 2 * 10**3\n",
    "plt.hist(loops_dicty_sizes)"
   ]
  },
  {
   "cell_type": "code",
   "execution_count": 4,
   "metadata": {},
   "outputs": [
    {
     "data": {
      "text/plain": [
       "40398.34024896265"
      ]
     },
     "execution_count": 4,
     "metadata": {},
     "output_type": "execute_result"
    }
   ],
   "source": [
    "np.mean(loops_dicty_sizes)"
   ]
  },
  {
   "cell_type": "markdown",
   "metadata": {},
   "source": [
    "Rao loops"
   ]
  },
  {
   "cell_type": "code",
   "execution_count": 5,
   "metadata": {},
   "outputs": [
    {
     "data": {
      "text/plain": [
       "(array([9.384e+03, 2.400e+01, 6.000e+00, 8.000e+00, 1.000e+00, 1.000e+00,\n",
       "        0.000e+00, 1.000e+00, 0.000e+00, 2.300e+01]),\n",
       " array([7.00020000e+04, 4.42030020e+07, 8.83360020e+07, 1.32469002e+08,\n",
       "        1.76602002e+08, 2.20735002e+08, 2.64868002e+08, 3.09001002e+08,\n",
       "        3.53134002e+08, 3.97267002e+08, 4.41400002e+08]),\n",
       " <a list of 10 Patch objects>)"
      ]
     },
     "execution_count": 5,
     "metadata": {},
     "output_type": "execute_result"
    },
    {
     "data": {
      "image/png": "[encoded data removed]",
      "text/plain": [
       "<Figure size 432x288 with 1 Axes>"
      ]
     },
     "metadata": {
      "needs_background": "light"
     },
     "output_type": "display_data"
    }
   ],
   "source": [
    "loops_rao = pandas.read_csv('rao/GSE63525_GM12878_primary+replicate_HiCCUPS_looplist.txt', sep='\\t',\n",
    "                             dtype = {'x1': np.long, 'x2': np.long, 'y1': np.long, 'y2': np.long})\n",
    "loops_rao_sizes = (loops_rao['y1'] - loops_rao['x1'] + 1) * 2\n",
    "plt.hist((loops_rao_sizes))"
   ]
  },
  {
   "cell_type": "code",
   "execution_count": 6,
   "metadata": {},
   "outputs": [
    {
     "data": {
      "text/plain": [
       "2347663.939034716"
      ]
     },
     "execution_count": 6,
     "metadata": {},
     "output_type": "execute_result"
    }
   ],
   "source": [
    "np.mean(loops_rao_sizes)"
   ]
  },
  {
   "cell_type": "code",
   "execution_count": 7,
   "metadata": {},
   "outputs": [
    {
     "data": {
      "text/plain": [
       "58.11288098884209"
      ]
     },
     "execution_count": 7,
     "metadata": {},
     "output_type": "execute_result"
    }
   ],
   "source": [
    "np.mean(loops_rao_sizes)/np.mean(loops_dicty_sizes)"
   ]
  },
  {
   "cell_type": "markdown",
   "metadata": {},
   "source": [
    "## Scaled densities comparison"
   ]
  },
  {
   "cell_type": "code",
   "execution_count": 8,
   "metadata": {},
   "outputs": [],
   "source": [
    "rao_loop_mean = np.load('rao/arrs/densities/avg_density_loops_mean_rao.npy')\n",
    "rao_btw_mean = np.load('rao/arrs/densities/avg_density_btw_mean_rao.npy')\n",
    "\n",
    "dicty_loop_mean = np.load('dicty/arrs/densities/avg_density_loops_mean_dicty.npy')\n",
    "dicty_btw_mean = np.load('dicty/arrs/densities/avg_density_btw_mean_dicty.npy')"
   ]
  },
  {
   "cell_type": "code",
   "execution_count": 9,
   "metadata": {},
   "outputs": [
    {
     "name": "stderr",
     "output_type": "stream",
     "text": [
      "/anaconda3/envs/loops/lib/python3.7/site-packages/ipykernel_launcher.py:4: RuntimeWarning: divide by zero encountered in log\n",
      "  after removing the cwd from sys.path.\n",
      "/anaconda3/envs/loops/lib/python3.7/site-packages/ipykernel_launcher.py:5: RuntimeWarning: divide by zero encountered in log\n",
      "  \"\"\"\n",
      "/anaconda3/envs/loops/lib/python3.7/site-packages/ipykernel_launcher.py:6: RuntimeWarning: divide by zero encountered in log\n",
      "  \n",
      "/anaconda3/envs/loops/lib/python3.7/site-packages/ipykernel_launcher.py:7: RuntimeWarning: divide by zero encountered in log\n",
      "  import sys\n"
     ]
    },
    {
     "data": {
      "image/png": "[encoded data removed]",
      "text/plain": [
       "<Figure size 432x288 with 1 Axes>"
      ]
     },
     "metadata": {
      "needs_background": "light"
     },
     "output_type": "display_data"
    }
   ],
   "source": [
    "fig = plt.figure()\n",
    "ax = plt.axes()\n",
    "\n",
    "plt.plot(np.log(range(rao_loop_mean.shape[0])), np.log(rao_loop_mean), label='rao loop')\n",
    "plt.plot(np.log(range(rao_btw_mean.shape[0])), np.log(rao_btw_mean), label='rao btw')\n",
    "plt.plot(np.log(range(dicty_loop_mean.shape[0])), np.log(dicty_loop_mean), label='dicty loop')\n",
    "plt.plot(np.log(range(dicty_btw_mean.shape[0])), np.log(dicty_btw_mean), label='btw loop');\n",
    "plt.legend(bbox_to_anchor=(1.05, 1), loc=2, borderaxespad=0.)\n",
    "plt.show()"
   ]
  }
 ],
 "metadata": {
  "kernelspec": {
   "display_name": "Python 3",
   "language": "python",
   "name": "python3"
  },
  "language_info": {
   "codemirror_mode": {
    "name": "ipython",
    "version": 3
   },
   "file_extension": ".py",
   "mimetype": "text/x-python",
   "name": "python",
   "nbconvert_exporter": "python",
   "pygments_lexer": "ipython3",
   "version": "3.7.2"
  }
 },
 "nbformat": 4,
 "nbformat_minor": 2
}

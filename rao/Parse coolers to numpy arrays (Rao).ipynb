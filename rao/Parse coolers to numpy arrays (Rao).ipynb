{
 "cells": [
  {
   "cell_type": "code",
   "execution_count": 1,
   "metadata": {},
   "outputs": [],
   "source": [
    "import cooler"
   ]
  },
  {
   "cell_type": "code",
   "execution_count": 2,
   "metadata": {},
   "outputs": [],
   "source": [
    "import sys\n",
    "import os\n",
    "sys.path.insert(0, os.getcwd().rsplit('/',1)[0])\n",
    "\n",
    "import loops_utils"
   ]
  },
  {
   "cell_type": "markdown",
   "metadata": {},
   "source": [
    "###### Read HiC matrix as a cooler"
   ]
  },
  {
   "cell_type": "code",
   "execution_count": 3,
   "metadata": {},
   "outputs": [],
   "source": [
    "filepath_10kb = 'coolers/Rao2014-GM12878-MboI-allreps-filtered.10kb.cool'\n",
    "cooler_10kb = cooler.Cooler(filepath_10kb)\n",
    "filepath_5kb = 'coolers/Rao2014-GM12878-MboI-allreps-filtered.5kb.cool'\n",
    "cooler_5kb = cooler.Cooler(filepath_5kb)\n",
    "filepath_1kb = 'coolers/Rao2014-GM12878-MboI-allreps-filtered.1kb.cool'\n",
    "cooler_1kb = cooler.Cooler(filepath_1kb)"
   ]
  },
  {
   "cell_type": "markdown",
   "metadata": {},
   "source": [
    "###### 10kb"
   ]
  },
  {
   "cell_type": "code",
   "execution_count": 13,
   "metadata": {},
   "outputs": [],
   "source": [
    "for chr in cooler_10kb.chromnames:\n",
    "#for chr in ['chrY']:\n",
    "    loops_utils.generate_and_save_arrays_for_chromosome(os.getcwd() + '/arrs/', cooler_10kb, chr)"
   ]
  },
  {
   "cell_type": "markdown",
   "metadata": {},
   "source": [
    "###### 5kb"
   ]
  },
  {
   "cell_type": "markdown",
   "metadata": {},
   "source": [
    "##### !!! Attention\n",
    "Running for a very long time and weighs a lot (1arr nearly 20GB)"
   ]
  },
  {
   "cell_type": "code",
   "execution_count": 6,
   "metadata": {},
   "outputs": [
    {
     "name": "stderr",
     "output_type": "stream",
     "text": [
      "/anaconda3/envs/loops/lib/python3.7/site-packages/ipykernel_launcher.py:4: RuntimeWarning: divide by zero encountered in log\n",
      "  after removing the cwd from sys.path.\n"
     ]
    }
   ],
   "source": [
    "for chr in cooler_5kb.chromnames:\n",
    "    loops_utils.generate_and_save_arrays_for_chromosome(os.getcwd() + '/arrs/', cooler_5kb, chr)"
   ]
  }
 ],
 "metadata": {
  "kernelspec": {
   "display_name": "Python 3",
   "language": "python",
   "name": "python3"
  },
  "language_info": {
   "codemirror_mode": {
    "name": "ipython",
    "version": 3
   },
   "file_extension": ".py",
   "mimetype": "text/x-python",
   "name": "python",
   "nbconvert_exporter": "python",
   "pygments_lexer": "ipython3",
   "version": "3.7.2"
  }
 },
 "nbformat": 4,
 "nbformat_minor": 2
}

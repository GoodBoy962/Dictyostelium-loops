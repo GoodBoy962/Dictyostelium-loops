{
 "cells": [
  {
   "cell_type": "code",
   "execution_count": 1,
   "metadata": {},
   "outputs": [],
   "source": [
    "import numpy as np\n",
    "import pandas\n",
    "\n",
    "import cooler\n",
    "from mirnylib import numutils"
   ]
  },
  {
   "cell_type": "markdown",
   "metadata": {},
   "source": [
    "###### Read HiC matrix as a cooler"
   ]
  },
  {
   "cell_type": "code",
   "execution_count": 2,
   "metadata": {},
   "outputs": [],
   "source": [
    "filepath_10kb = 'coolers/Rao2014-GM12878-MboI-allreps-filtered.10kb.cool'\n",
    "cooler_10kb = cooler.Cooler(filepath_10kb)\n",
    "filepath_5kb = 'coolers/Rao2014-GM12878-MboI-allreps-filtered.5kb.cool'\n",
    "cooler_5kb = cooler.Cooler(filepath_5kb)\n",
    "filepath_1kb = 'coolers/Rao2014-GM12878-MboI-allreps-filtered.1kb.cool'\n",
    "cooler_1kb = cooler.Cooler(filepath_1kb)"
   ]
  },
  {
   "cell_type": "code",
   "execution_count": 3,
   "metadata": {},
   "outputs": [],
   "source": [
    "def generate_numpy_array_from_cooler_for_concrete_chromosome(cooler, chr):\n",
    "    '''\n",
    "        Parse cooler to numpy array for concrete chromosome\n",
    "        Get bins corresponding to concrete chromosome ch and translate then to array\n",
    "    '''\n",
    "    bins = cooler.bins()[:]\n",
    "\n",
    "    bins_num = bins[bins.chrom == chr].shape[0]\n",
    "    indx = bins[bins.chrom == chr].index.values\n",
    "    start = indx[0]\n",
    "    end = indx[-1]\n",
    "    mat = cooler.matrix(balance=True, sparse=True)[start:end, start:end]\n",
    "    return mat.toarray()"
   ]
  },
  {
   "cell_type": "markdown",
   "metadata": {},
   "source": [
    "### Chromosome 1"
   ]
  },
  {
   "cell_type": "code",
   "execution_count": 4,
   "metadata": {},
   "outputs": [],
   "source": [
    "chr = 'chr1'"
   ]
  },
  {
   "cell_type": "markdown",
   "metadata": {},
   "source": [
    "###### 10kb"
   ]
  },
  {
   "cell_type": "code",
   "execution_count": 5,
   "metadata": {},
   "outputs": [
    {
     "name": "stderr",
     "output_type": "stream",
     "text": [
      "/anaconda3/envs/loops/lib/python3.7/site-packages/ipykernel_launcher.py:3: RuntimeWarning: divide by zero encountered in log\n",
      "  This is separate from the ipykernel package so we can avoid doing imports until\n",
      "/anaconda3/envs/loops/lib/python3.7/site-packages/ipykernel_launcher.py:6: RuntimeWarning: divide by zero encountered in log\n",
      "  \n"
     ]
    }
   ],
   "source": [
    "mat = generate_numpy_array_from_cooler_for_concrete_chromosome(cooler_10kb, chr)\n",
    "np.save('arrs/10kb_1chr', mat)\n",
    "np.save('arrs/10kb_1chr_log', np.log(mat))\n",
    "mat_norm = numutils.observedOverExpected(mat)\n",
    "np.save('arrs/10kb_1chr_norm', mat_norm)\n",
    "np.save('arrs/10kb_1chr_norm_log', np.log(mat_norm))"
   ]
  },
  {
   "cell_type": "markdown",
   "metadata": {},
   "source": [
    "###### 5kb"
   ]
  },
  {
   "cell_type": "code",
   "execution_count": 6,
   "metadata": {},
   "outputs": [
    {
     "name": "stderr",
     "output_type": "stream",
     "text": [
      "/anaconda3/envs/loops/lib/python3.7/site-packages/ipykernel_launcher.py:4: RuntimeWarning: divide by zero encountered in log\n",
      "  after removing the cwd from sys.path.\n"
     ]
    }
   ],
   "source": [
    "mat = generate_numpy_array_from_cooler_for_concrete_chromosome(cooler_5kb, chr)\n",
    "mat_norm = numutils.observedOverExpected(mat)\n",
    "np.save('arrs/5kb_1chr_norm', mat_norm)\n",
    "np.save('arrs/5kb_1chr_norm_log', np.log(mat_norm))"
   ]
  }
 ],
 "metadata": {
  "kernelspec": {
   "display_name": "Python 3",
   "language": "python",
   "name": "python3"
  },
  "language_info": {
   "codemirror_mode": {
    "name": "ipython",
    "version": 3
   },
   "file_extension": ".py",
   "mimetype": "text/x-python",
   "name": "python",
   "nbconvert_exporter": "python",
   "pygments_lexer": "ipython3",
   "version": "3.7.2"
  }
 },
 "nbformat": 4,
 "nbformat_minor": 2
}

{
 "cells": [
  {
   "cell_type": "code",
   "execution_count": 1,
   "metadata": {},
   "outputs": [
    {
     "name": "stderr",
     "output_type": "stream",
     "text": [
      "/anaconda3/lib/python3.6/site-packages/h5py/__init__.py:34: FutureWarning: Conversion of the second argument of issubdtype from `float` to `np.floating` is deprecated. In future, it will be treated as `np.float64 == np.dtype(float).type`.\n",
      "  from ._conv import register_converters as _register_converters\n"
     ]
    }
   ],
   "source": [
    "import numpy as np\n",
    "import pandas\n",
    "\n",
    "import cooler"
   ]
  },
  {
   "cell_type": "code",
   "execution_count": 2,
   "metadata": {},
   "outputs": [],
   "source": [
    "filepath_10kb = 'Rao2014-GM12878-MboI-allreps-filtered.10kb.cool'\n",
    "cooler_10kb = cooler.Cooler(filepath_10kb)\n",
    "filepath_5kb = 'Rao2014-GM12878-MboI-allreps-filtered.5kb.cool'\n",
    "cooler_5kb = cooler.Cooler(filepath_5kb)\n",
    "filepath_1kb = 'Rao2014-GM12878-MboI-allreps-filtered.1kb.cool'\n",
    "cooler_1kb = cooler.Cooler(filepath_1kb)"
   ]
  },
  {
   "cell_type": "code",
   "execution_count": 20,
   "metadata": {},
   "outputs": [],
   "source": [
    "def generate_numpy_array_from_cooler_for_concrete_chromosome(cooler, chr):\n",
    "    '''\n",
    "        Parse cooler to numpy array\n",
    "    '''\n",
    "    bins = cooler.bins()[:]\n",
    "\n",
    "    bins_num = bins[bins.chrom == chr].shape[0]\n",
    "    indx = bins[bins.chrom == chr].index.values\n",
    "    start = indx[0]\n",
    "    end = indx[-1]\n",
    "    mat = cooler.matrix(balance=True, sparse=True)[start:end, start:end]\n",
    "    return mat.toarray()"
   ]
  },
  {
   "cell_type": "code",
   "execution_count": null,
   "metadata": {},
   "outputs": [],
   "source": [
    "for chr in cooler_10kb.chromnames:\n",
    "    "
   ]
  },
  {
   "cell_type": "code",
   "execution_count": 10,
   "metadata": {},
   "outputs": [
    {
     "data": {
      "text/plain": [
       "array([[  0.        ,   0.        ,   0.        , ...,   0.        ,\n",
       "          0.        ,   0.        ],\n",
       "       [  0.        ,   0.        ,   0.        , ...,   0.        ,\n",
       "          0.        ,   0.        ],\n",
       "       [  0.        ,   0.        ,   0.        , ...,   0.        ,\n",
       "          0.        ,   0.        ],\n",
       "       ...,\n",
       "       [  0.        ,   0.        ,   0.        , ..., 612.6444065 ,\n",
       "        797.99556759, 578.56997779],\n",
       "       [  0.        ,   0.        ,   0.        , ..., 797.99556759,\n",
       "        644.06257301, 923.38057392],\n",
       "       [  0.        ,   0.        ,   0.        , ..., 578.56997779,\n",
       "        923.38057392, 584.12587613]])"
      ]
     },
     "execution_count": 10,
     "metadata": {},
     "output_type": "execute_result"
    }
   ],
   "source": [
    "temp = cooler_10kb.matrix(balance=True, sparse=True)[0:100, 0:100]\n",
    "temp.toarray()"
   ]
  }
 ],
 "metadata": {
  "kernelspec": {
   "display_name": "Python 3",
   "language": "python",
   "name": "python3"
  },
  "language_info": {
   "codemirror_mode": {
    "name": "ipython",
    "version": 3
   },
   "file_extension": ".py",
   "mimetype": "text/x-python",
   "name": "python",
   "nbconvert_exporter": "python",
   "pygments_lexer": "ipython3",
   "version": "3.6.8"
  }
 },
 "nbformat": 4,
 "nbformat_minor": 2
}

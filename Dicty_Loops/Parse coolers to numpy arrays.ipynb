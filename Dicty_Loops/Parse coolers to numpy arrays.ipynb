{
 "cells": [
  {
   "cell_type": "code",
   "execution_count": 1,
   "metadata": {},
   "outputs": [],
   "source": [
    "import numpy as np\n",
    "import cooler\n",
    "\n",
    "from mirnylib import numutils"
   ]
  },
  {
   "cell_type": "code",
   "execution_count": 2,
   "metadata": {},
   "outputs": [
    {
     "name": "stdout",
     "output_type": "stream",
     "text": [
      "File <<Dicty_5A.1000.cool.multires>> already there; not retrieving.\r\n",
      "\r\n"
     ]
    }
   ],
   "source": [
    "# Download a multiresoltion Dictyostelium file\n",
    "!wget -nc http://makarich.fbb.msu.ru/agalicina/Lab_open/DICTY/COOL/Dicty_5A.1000.cool.multires"
   ]
  },
  {
   "cell_type": "code",
   "execution_count": 3,
   "metadata": {},
   "outputs": [],
   "source": [
    "resolution = 2000\n",
    "filepath = 'Dicty_0A.1000.cool.multires::resolutions/' + str(resolution)\n",
    "c = cooler.Cooler(filepath)"
   ]
  },
  {
   "cell_type": "code",
   "execution_count": 4,
   "metadata": {},
   "outputs": [],
   "source": [
    "def generate_numpy_array_from_cooler_for_concrete_chromosome(cooler, ch):\n",
    "    '''\n",
    "        Parse cooler to numpy array for concrete chromosome\n",
    "        Get bins corresponding to concrete chromosome ch and translate then to array\n",
    "    '''\n",
    "    bins = cooler.bins()[:]\n",
    "\n",
    "    bins_num = bins[bins.chrom == chr].shape[0]\n",
    "    indx = bins[bins.chrom == chr].index.values\n",
    "    start = indx[0]\n",
    "    end = indx[-1]\n",
    "    mat = cooler.matrix(balance=True, sparse=True)[start:end, start:end]\n",
    "    return mat.toarray()"
   ]
  },
  {
   "cell_type": "code",
   "execution_count": 5,
   "metadata": {},
   "outputs": [],
   "source": [
    "### Chromosome 1"
   ]
  },
  {
   "cell_type": "code",
   "execution_count": 6,
   "metadata": {},
   "outputs": [],
   "source": [
    "chr = 'chr1'"
   ]
  },
  {
   "cell_type": "code",
   "execution_count": 7,
   "metadata": {},
   "outputs": [
    {
     "name": "stderr",
     "output_type": "stream",
     "text": [
      "/anaconda3/lib/python3.7/site-packages/ipykernel_launcher.py:4: RuntimeWarning: divide by zero encountered in log\n",
      "  after removing the cwd from sys.path.\n",
      "/anaconda3/lib/python3.7/site-packages/ipykernel_launcher.py:6: RuntimeWarning: divide by zero encountered in log10\n",
      "  \n"
     ]
    }
   ],
   "source": [
    "mat = generate_numpy_array_from_cooler_for_concrete_chromosome(c, chr)\n",
    "mat_norm = numutils.observedOverExpected(mat)\n",
    "np.save('2kb_1chr', mat)\n",
    "np.save('2kb_1chr_log', np.log(mat))\n",
    "np.save('2kb_1chr_norm', mat_norm)\n",
    "np.save('2kb_1chr_norm_log', np.log10(mat_norm))"
   ]
  },
  {
   "cell_type": "markdown",
   "metadata": {},
   "source": [
    "### Chromoome 6"
   ]
  },
  {
   "cell_type": "code",
   "execution_count": 8,
   "metadata": {},
   "outputs": [],
   "source": [
    "chr = 'chr6'"
   ]
  },
  {
   "cell_type": "code",
   "execution_count": 9,
   "metadata": {},
   "outputs": [
    {
     "name": "stderr",
     "output_type": "stream",
     "text": [
      "/anaconda3/lib/python3.7/site-packages/ipykernel_launcher.py:4: RuntimeWarning: divide by zero encountered in log\n",
      "  after removing the cwd from sys.path.\n",
      "/anaconda3/lib/python3.7/site-packages/ipykernel_launcher.py:6: RuntimeWarning: divide by zero encountered in log10\n",
      "  \n"
     ]
    }
   ],
   "source": [
    "mat = generate_numpy_array_from_cooler_for_concrete_chromosome(c, chr)\n",
    "mat_norm = numutils.observedOverExpected(mat)\n",
    "np.save('2kb_6chr', mat)\n",
    "np.save('2kb_6chr_log', np.log(mat))\n",
    "np.save('2kb_6chr_norm', mat_norm)\n",
    "np.save('2kb_6chr_norm_log', np.log10(mat_norm))"
   ]
  }
 ],
 "metadata": {
  "kernelspec": {
   "display_name": "Python 3",
   "language": "python",
   "name": "python3"
  },
  "language_info": {
   "codemirror_mode": {
    "name": "ipython",
    "version": 3
   },
   "file_extension": ".py",
   "mimetype": "text/x-python",
   "name": "python",
   "nbconvert_exporter": "python",
   "pygments_lexer": "ipython3",
   "version": "3.7.2"
  }
 },
 "nbformat": 4,
 "nbformat_minor": 2
}
